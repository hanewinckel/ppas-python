{
 "cells": [
  {
   "cell_type": "code",
   "execution_count": 2,
   "id": "7fa31adc-ed90-4ce1-964a-15d5e85cbd97",
   "metadata": {},
   "outputs": [],
   "source": [
    "import pandas as pd\n",
    "import numpy as np\n",
    "import sklearn \n",
    "import seaborn as sns"
   ]
  },
  {
   "cell_type": "markdown",
   "id": "40e52203-9e57-4b10-a6f7-b0844e50f934",
   "metadata": {},
   "source": [
    "# Temp Header\n",
    "## Read in GOT Data\n",
    "### Temp Links:\n",
    "https://injepijournal.biomedcentral.com/articles/10.1186/s40621-018-0174-7\n",
    "https://figshare.com/articles/dataset/Game_of_Thrones_mortality_and_survival_dataset/8259680/1"
   ]
  },
  {
   "cell_type": "code",
   "execution_count": 4,
   "id": "e5d61bcf-e7f6-493d-96e4-42a16f41a14f",
   "metadata": {},
   "outputs": [],
   "source": [
    "df_got = pd.read_csv('../data/character_data_S01-S08.csv')\n",
    "df_episode = pd.read_csv('../data/episode_data.csv')"
   ]
  },
  {
   "cell_type": "code",
   "execution_count": null,
   "id": "25d3ffbe-562c-43ba-8441-5975debf3136",
   "metadata": {},
   "outputs": [],
   "source": []
  }
 ],
 "metadata": {
  "kernelspec": {
   "display_name": "Python [conda env:.conda-ppas]",
   "language": "python",
   "name": "conda-env-.conda-ppas-py"
  },
  "language_info": {
   "codemirror_mode": {
    "name": "ipython",
    "version": 3
   },
   "file_extension": ".py",
   "mimetype": "text/x-python",
   "name": "python",
   "nbconvert_exporter": "python",
   "pygments_lexer": "ipython3",
   "version": "3.9.7"
  }
 },
 "nbformat": 4,
 "nbformat_minor": 5
}
