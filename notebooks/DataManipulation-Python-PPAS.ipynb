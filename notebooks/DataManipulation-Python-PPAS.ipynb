{
 "cells": [
  {
   "cell_type": "code",
   "execution_count": null,
   "id": "03db9924",
   "metadata": {},
   "outputs": [],
   "source": [
    "#import base modules\n",
    "import re\n",
    "import time\n",
    "#import installed modules\n",
    "import pandas as pd\n",
    "import numpy as np\n",
    "import sklearn \n",
    "import seaborn as sns"
   ]
  },
  {
   "cell_type": "markdown",
   "id": "eff17f12",
   "metadata": {},
   "source": [
    "# Predictive Practical Analytics Seminar 2021 - Data Manipulation in Python\n",
    "\n",
    "## Import Data\n",
    "\n",
    "### Winter is Coming\n",
    "\n",
    "#### Source of data Links:\n",
    "\n",
    "Game of Thrones mortality/survival dataset:\n",
    "https://figshare.com/articles/dataset/Game_of_Thrones_mortality_and_survival_dataset/8259680/1\n",
    "\n",
    "Biomedical research article using the dataset:\n",
    "https://injepijournal.biomedcentral.com/articles/10.1186/s40621-018-0174-7"
   ]
  },
  {
   "cell_type": "code",
   "execution_count": null,
   "id": "85bf7475",
   "metadata": {},
   "outputs": [],
   "source": [
    "df_got = pd.read_csv('../data/character_data_S01-S08.csv')\n",
    "df_episode = pd.read_csv('../data/episode_data.csv')"
   ]
  },
  {
   "cell_type": "markdown",
   "id": "72c0f364",
   "metadata": {},
   "source": [
    "## Understanding the Data\n",
    "\n",
    "### head()\n",
    "\n",
    "Much like in R, head(n) returns the top n rows of data in a dataframe, defaulting to n = 5. The main difference is in syntax style between the two languages. The below example would return 10 rows of data.\n",
    "\n",
    "R: `head(df,10)`\n",
    "\n",
    "Python (pandas): `df.head(10)`"
   ]
  },
  {
   "cell_type": "code",
   "execution_count": null,
   "id": "8db2bfe3",
   "metadata": {},
   "outputs": [
    {
     "data": {
      "text/html": [
       "<div>\n",
       "<style scoped>\n",
       "    .dataframe tbody tr th:only-of-type {\n",
       "        vertical-align: middle;\n",
       "    }\n",
       "\n",
       "    .dataframe tbody tr th {\n",
       "        vertical-align: top;\n",
       "    }\n",
       "\n",
       "    .dataframe thead th {\n",
       "        text-align: right;\n",
       "    }\n",
       "</style>\n",
       "<table border=\"1\" class=\"dataframe\">\n",
       "  <thead>\n",
       "    <tr style=\"text-align: right;\">\n",
       "      <th></th>\n",
       "      <th>id</th>\n",
       "      <th>name</th>\n",
       "      <th>sex</th>\n",
       "      <th>religion</th>\n",
       "      <th>occupation</th>\n",
       "      <th>social_status</th>\n",
       "      <th>allegiance_last</th>\n",
       "      <th>allegiance_switched</th>\n",
       "      <th>intro_season</th>\n",
       "      <th>intro_episode</th>\n",
       "      <th>...</th>\n",
       "      <th>dth_description</th>\n",
       "      <th>icd10_dx_code</th>\n",
       "      <th>icd10_dx_text</th>\n",
       "      <th>icd10_cause_code</th>\n",
       "      <th>icd10_cause_text</th>\n",
       "      <th>icd10_place_code</th>\n",
       "      <th>icd10_place_text</th>\n",
       "      <th>top_location</th>\n",
       "      <th>geo_location</th>\n",
       "      <th>time_of_day</th>\n",
       "    </tr>\n",
       "  </thead>\n",
       "  <tbody>\n",
       "    <tr>\n",
       "      <th>0</th>\n",
       "      <td>100</td>\n",
       "      <td>Waymar Royce</td>\n",
       "      <td>1</td>\n",
       "      <td>9</td>\n",
       "      <td>2</td>\n",
       "      <td>2</td>\n",
       "      <td>3</td>\n",
       "      <td>1</td>\n",
       "      <td>1</td>\n",
       "      <td>1</td>\n",
       "      <td>...</td>\n",
       "      <td>Killed by a white walker in a forest</td>\n",
       "      <td>T14</td>\n",
       "      <td>Injury of unspecified body region</td>\n",
       "      <td>X99.0</td>\n",
       "      <td>Assault by knife</td>\n",
       "      <td>Y92.84</td>\n",
       "      <td>Forest</td>\n",
       "      <td>2.0</td>\n",
       "      <td>1.0</td>\n",
       "      <td>1.0</td>\n",
       "    </tr>\n",
       "    <tr>\n",
       "      <th>1</th>\n",
       "      <td>101</td>\n",
       "      <td>Gared Tuttle</td>\n",
       "      <td>1</td>\n",
       "      <td>9</td>\n",
       "      <td>2</td>\n",
       "      <td>2</td>\n",
       "      <td>3</td>\n",
       "      <td>1</td>\n",
       "      <td>1</td>\n",
       "      <td>1</td>\n",
       "      <td>...</td>\n",
       "      <td>Decapitation by a white walker in a forest</td>\n",
       "      <td>S18</td>\n",
       "      <td>Traumatic amputation at neck level</td>\n",
       "      <td>X99.0</td>\n",
       "      <td>Assault by knife</td>\n",
       "      <td>Y92.84</td>\n",
       "      <td>Forest</td>\n",
       "      <td>2.0</td>\n",
       "      <td>1.0</td>\n",
       "      <td>1.0</td>\n",
       "    </tr>\n",
       "    <tr>\n",
       "      <th>2</th>\n",
       "      <td>102</td>\n",
       "      <td>Will</td>\n",
       "      <td>1</td>\n",
       "      <td>9</td>\n",
       "      <td>2</td>\n",
       "      <td>2</td>\n",
       "      <td>3</td>\n",
       "      <td>1</td>\n",
       "      <td>1</td>\n",
       "      <td>1</td>\n",
       "      <td>...</td>\n",
       "      <td>Decapitation by Ned Stark (legal execution) in...</td>\n",
       "      <td>S18</td>\n",
       "      <td>Traumatic amputation at neck level</td>\n",
       "      <td>Y35.5</td>\n",
       "      <td>Legal execution</td>\n",
       "      <td>Y92.86</td>\n",
       "      <td>Other specified countryside</td>\n",
       "      <td>2.0</td>\n",
       "      <td>1.0</td>\n",
       "      <td>1.0</td>\n",
       "    </tr>\n",
       "    <tr>\n",
       "      <th>3</th>\n",
       "      <td>103</td>\n",
       "      <td>Irri</td>\n",
       "      <td>2</td>\n",
       "      <td>1</td>\n",
       "      <td>2</td>\n",
       "      <td>2</td>\n",
       "      <td>2</td>\n",
       "      <td>2</td>\n",
       "      <td>1</td>\n",
       "      <td>1</td>\n",
       "      <td>...</td>\n",
       "      <td>Strangled to death with a tassel by Doreah in ...</td>\n",
       "      <td>T71</td>\n",
       "      <td>Asphyxiation</td>\n",
       "      <td>X91</td>\n",
       "      <td>Assault by hanging, strangulation and suffocation</td>\n",
       "      <td>Y92.0</td>\n",
       "      <td>Home</td>\n",
       "      <td>1.0</td>\n",
       "      <td>2.0</td>\n",
       "      <td>1.0</td>\n",
       "    </tr>\n",
       "    <tr>\n",
       "      <th>4</th>\n",
       "      <td>104</td>\n",
       "      <td>Jon Snow</td>\n",
       "      <td>1</td>\n",
       "      <td>4</td>\n",
       "      <td>2</td>\n",
       "      <td>1</td>\n",
       "      <td>3</td>\n",
       "      <td>2</td>\n",
       "      <td>1</td>\n",
       "      <td>1</td>\n",
       "      <td>...</td>\n",
       "      <td>NaN</td>\n",
       "      <td>NaN</td>\n",
       "      <td>NaN</td>\n",
       "      <td>NaN</td>\n",
       "      <td>NaN</td>\n",
       "      <td>NaN</td>\n",
       "      <td>NaN</td>\n",
       "      <td>NaN</td>\n",
       "      <td>NaN</td>\n",
       "      <td>NaN</td>\n",
       "    </tr>\n",
       "  </tbody>\n",
       "</table>\n",
       "<p>5 rows × 35 columns</p>\n",
       "</div>"
      ],
      "text/plain": [
       "    id          name  sex  religion  occupation  social_status  \\\n",
       "0  100  Waymar Royce    1         9           2              2   \n",
       "1  101  Gared Tuttle    1         9           2              2   \n",
       "2  102          Will    1         9           2              2   \n",
       "3  103          Irri    2         1           2              2   \n",
       "4  104      Jon Snow    1         4           2              1   \n",
       "\n",
       "   allegiance_last  allegiance_switched  intro_season  intro_episode  ...  \\\n",
       "0                3                    1             1              1  ...   \n",
       "1                3                    1             1              1  ...   \n",
       "2                3                    1             1              1  ...   \n",
       "3                2                    2             1              1  ...   \n",
       "4                3                    2             1              1  ...   \n",
       "\n",
       "                                     dth_description  icd10_dx_code  \\\n",
       "0               Killed by a white walker in a forest            T14   \n",
       "1         Decapitation by a white walker in a forest            S18   \n",
       "2  Decapitation by Ned Stark (legal execution) in...            S18   \n",
       "3  Strangled to death with a tassel by Doreah in ...            T71   \n",
       "4                                                NaN            NaN   \n",
       "\n",
       "                        icd10_dx_text  icd10_cause_code  \\\n",
       "0   Injury of unspecified body region             X99.0   \n",
       "1  Traumatic amputation at neck level             X99.0   \n",
       "2  Traumatic amputation at neck level             Y35.5   \n",
       "3                        Asphyxiation               X91   \n",
       "4                                 NaN               NaN   \n",
       "\n",
       "                                    icd10_cause_text  icd10_place_code  \\\n",
       "0                                   Assault by knife            Y92.84   \n",
       "1                                   Assault by knife            Y92.84   \n",
       "2                                    Legal execution            Y92.86   \n",
       "3  Assault by hanging, strangulation and suffocation             Y92.0   \n",
       "4                                                NaN               NaN   \n",
       "\n",
       "              icd10_place_text  top_location  geo_location  time_of_day  \n",
       "0                       Forest           2.0           1.0          1.0  \n",
       "1                       Forest           2.0           1.0          1.0  \n",
       "2  Other specified countryside           2.0           1.0          1.0  \n",
       "3                         Home           1.0           2.0          1.0  \n",
       "4                          NaN           NaN           NaN          NaN  \n",
       "\n",
       "[5 rows x 35 columns]"
      ]
     },
     "metadata": {},
     "output_type": "display_data"
    },
    {
     "data": {
      "text/html": [
       "<div>\n",
       "<style scoped>\n",
       "    .dataframe tbody tr th:only-of-type {\n",
       "        vertical-align: middle;\n",
       "    }\n",
       "\n",
       "    .dataframe tbody tr th {\n",
       "        vertical-align: top;\n",
       "    }\n",
       "\n",
       "    .dataframe thead th {\n",
       "        text-align: right;\n",
       "    }\n",
       "</style>\n",
       "<table border=\"1\" class=\"dataframe\">\n",
       "  <thead>\n",
       "    <tr style=\"text-align: right;\">\n",
       "      <th></th>\n",
       "      <th>season</th>\n",
       "      <th>episode_number</th>\n",
       "      <th>episode_name</th>\n",
       "      <th>gross_running_time</th>\n",
       "      <th>opening_credits_time</th>\n",
       "      <th>closing_credits_time</th>\n",
       "      <th>net_running_time</th>\n",
       "      <th>cumulative_net_running_time</th>\n",
       "    </tr>\n",
       "  </thead>\n",
       "  <tbody>\n",
       "    <tr>\n",
       "      <th>0</th>\n",
       "      <td>1</td>\n",
       "      <td>1</td>\n",
       "      <td>\"Winter Is Coming\"</td>\n",
       "      <td>3546</td>\n",
       "      <td>110</td>\n",
       "      <td>33</td>\n",
       "      <td>3403</td>\n",
       "      <td>3403</td>\n",
       "    </tr>\n",
       "    <tr>\n",
       "      <th>1</th>\n",
       "      <td>1</td>\n",
       "      <td>2</td>\n",
       "      <td>\"The Kingsroad\"</td>\n",
       "      <td>3182</td>\n",
       "      <td>111</td>\n",
       "      <td>34</td>\n",
       "      <td>3037</td>\n",
       "      <td>6440</td>\n",
       "    </tr>\n",
       "    <tr>\n",
       "      <th>2</th>\n",
       "      <td>1</td>\n",
       "      <td>3</td>\n",
       "      <td>\"Lord Snow\"</td>\n",
       "      <td>3294</td>\n",
       "      <td>96</td>\n",
       "      <td>27</td>\n",
       "      <td>3171</td>\n",
       "      <td>9611</td>\n",
       "    </tr>\n",
       "    <tr>\n",
       "      <th>3</th>\n",
       "      <td>1</td>\n",
       "      <td>4</td>\n",
       "      <td>\"Cripples, Bastards, and Broken Things\"</td>\n",
       "      <td>3201</td>\n",
       "      <td>96</td>\n",
       "      <td>26</td>\n",
       "      <td>3079</td>\n",
       "      <td>12690</td>\n",
       "    </tr>\n",
       "    <tr>\n",
       "      <th>4</th>\n",
       "      <td>1</td>\n",
       "      <td>5</td>\n",
       "      <td>\"The Wolf and the Lion\"</td>\n",
       "      <td>3123</td>\n",
       "      <td>101</td>\n",
       "      <td>24</td>\n",
       "      <td>2998</td>\n",
       "      <td>15688</td>\n",
       "    </tr>\n",
       "  </tbody>\n",
       "</table>\n",
       "</div>"
      ],
      "text/plain": [
       "   season  episode_number                             episode_name  \\\n",
       "0       1               1                       \"Winter Is Coming\"   \n",
       "1       1               2                          \"The Kingsroad\"   \n",
       "2       1               3                              \"Lord Snow\"   \n",
       "3       1               4  \"Cripples, Bastards, and Broken Things\"   \n",
       "4       1               5                  \"The Wolf and the Lion\"   \n",
       "\n",
       "   gross_running_time  opening_credits_time  closing_credits_time  \\\n",
       "0                3546                   110                    33   \n",
       "1                3182                   111                    34   \n",
       "2                3294                    96                    27   \n",
       "3                3201                    96                    26   \n",
       "4                3123                   101                    24   \n",
       "\n",
       "   net_running_time  cumulative_net_running_time  \n",
       "0              3403                         3403  \n",
       "1              3037                         6440  \n",
       "2              3171                         9611  \n",
       "3              3079                        12690  \n",
       "4              2998                        15688  "
      ]
     },
     "metadata": {},
     "output_type": "display_data"
    }
   ],
   "source": [
    "display(df_got.head())\n",
    "display(df_episode.head())"
   ]
  },
  {
   "cell_type": "markdown",
   "id": "a4c5b713",
   "metadata": {},
   "source": [
    "### describe()"
   ]
  },
  {
   "cell_type": "code",
   "execution_count": null,
   "id": "0a86b1f5",
   "metadata": {},
   "outputs": [
    {
     "data": {
      "text/html": [
       "<div>\n",
       "<style scoped>\n",
       "    .dataframe tbody tr th:only-of-type {\n",
       "        vertical-align: middle;\n",
       "    }\n",
       "\n",
       "    .dataframe tbody tr th {\n",
       "        vertical-align: top;\n",
       "    }\n",
       "\n",
       "    .dataframe thead th {\n",
       "        text-align: right;\n",
       "    }\n",
       "</style>\n",
       "<table border=\"1\" class=\"dataframe\">\n",
       "  <thead>\n",
       "    <tr style=\"text-align: right;\">\n",
       "      <th></th>\n",
       "      <th>id</th>\n",
       "      <th>sex</th>\n",
       "      <th>religion</th>\n",
       "      <th>occupation</th>\n",
       "      <th>social_status</th>\n",
       "      <th>allegiance_last</th>\n",
       "      <th>allegiance_switched</th>\n",
       "      <th>intro_season</th>\n",
       "      <th>intro_episode</th>\n",
       "      <th>intro_time_sec</th>\n",
       "      <th>...</th>\n",
       "      <th>censor_time_hrs</th>\n",
       "      <th>exp_season</th>\n",
       "      <th>exp_episode</th>\n",
       "      <th>exp_time_sec</th>\n",
       "      <th>exp_time_hrs</th>\n",
       "      <th>featured_episode_count</th>\n",
       "      <th>prominence</th>\n",
       "      <th>top_location</th>\n",
       "      <th>geo_location</th>\n",
       "      <th>time_of_day</th>\n",
       "    </tr>\n",
       "  </thead>\n",
       "  <tbody>\n",
       "    <tr>\n",
       "      <th>count</th>\n",
       "      <td>359.000000</td>\n",
       "      <td>359.000000</td>\n",
       "      <td>359.000000</td>\n",
       "      <td>359.000000</td>\n",
       "      <td>359.000000</td>\n",
       "      <td>359.000000</td>\n",
       "      <td>359.000000</td>\n",
       "      <td>359.000000</td>\n",
       "      <td>359.000000</td>\n",
       "      <td>359.000000</td>\n",
       "      <td>...</td>\n",
       "      <td>359.000000</td>\n",
       "      <td>359.000000</td>\n",
       "      <td>359.000000</td>\n",
       "      <td>359.000000</td>\n",
       "      <td>359.000000</td>\n",
       "      <td>359.000000</td>\n",
       "      <td>359.000000</td>\n",
       "      <td>212.000000</td>\n",
       "      <td>212.000000</td>\n",
       "      <td>212.000000</td>\n",
       "    </tr>\n",
       "    <tr>\n",
       "      <th>mean</th>\n",
       "      <td>279.000000</td>\n",
       "      <td>1.292479</td>\n",
       "      <td>7.041783</td>\n",
       "      <td>2.551532</td>\n",
       "      <td>1.688022</td>\n",
       "      <td>5.587744</td>\n",
       "      <td>1.153203</td>\n",
       "      <td>3.487465</td>\n",
       "      <td>29.072423</td>\n",
       "      <td>87278.835655</td>\n",
       "      <td>...</td>\n",
       "      <td>46.922368</td>\n",
       "      <td>3.487465</td>\n",
       "      <td>26.350975</td>\n",
       "      <td>81643.732591</td>\n",
       "      <td>22.678914</td>\n",
       "      <td>7.805014</td>\n",
       "      <td>1.129215</td>\n",
       "      <td>2.377358</td>\n",
       "      <td>1.174528</td>\n",
       "      <td>2.509434</td>\n",
       "    </tr>\n",
       "    <tr>\n",
       "      <th>std</th>\n",
       "      <td>103.778611</td>\n",
       "      <td>0.455536</td>\n",
       "      <td>2.829599</td>\n",
       "      <td>2.389921</td>\n",
       "      <td>0.463947</td>\n",
       "      <td>2.923124</td>\n",
       "      <td>0.360686</td>\n",
       "      <td>2.254538</td>\n",
       "      <td>22.426672</td>\n",
       "      <td>68897.206765</td>\n",
       "      <td>...</td>\n",
       "      <td>19.873473</td>\n",
       "      <td>2.427550</td>\n",
       "      <td>23.275600</td>\n",
       "      <td>73265.393027</td>\n",
       "      <td>20.351597</td>\n",
       "      <td>11.981638</td>\n",
       "      <td>1.269363</td>\n",
       "      <td>2.362635</td>\n",
       "      <td>0.380462</td>\n",
       "      <td>2.778541</td>\n",
       "    </tr>\n",
       "    <tr>\n",
       "      <th>min</th>\n",
       "      <td>100.000000</td>\n",
       "      <td>1.000000</td>\n",
       "      <td>1.000000</td>\n",
       "      <td>1.000000</td>\n",
       "      <td>1.000000</td>\n",
       "      <td>1.000000</td>\n",
       "      <td>1.000000</td>\n",
       "      <td>1.000000</td>\n",
       "      <td>1.000000</td>\n",
       "      <td>1.000000</td>\n",
       "      <td>...</td>\n",
       "      <td>0.100000</td>\n",
       "      <td>1.000000</td>\n",
       "      <td>1.000000</td>\n",
       "      <td>8.000000</td>\n",
       "      <td>0.000000</td>\n",
       "      <td>1.000000</td>\n",
       "      <td>0.111100</td>\n",
       "      <td>1.000000</td>\n",
       "      <td>1.000000</td>\n",
       "      <td>1.000000</td>\n",
       "    </tr>\n",
       "    <tr>\n",
       "      <th>25%</th>\n",
       "      <td>189.500000</td>\n",
       "      <td>1.000000</td>\n",
       "      <td>4.000000</td>\n",
       "      <td>1.000000</td>\n",
       "      <td>1.000000</td>\n",
       "      <td>3.000000</td>\n",
       "      <td>1.000000</td>\n",
       "      <td>1.000000</td>\n",
       "      <td>9.000000</td>\n",
       "      <td>25348.000000</td>\n",
       "      <td>...</td>\n",
       "      <td>31.965000</td>\n",
       "      <td>1.000000</td>\n",
       "      <td>5.000000</td>\n",
       "      <td>14496.500000</td>\n",
       "      <td>4.030000</td>\n",
       "      <td>1.000000</td>\n",
       "      <td>0.333300</td>\n",
       "      <td>1.000000</td>\n",
       "      <td>1.000000</td>\n",
       "      <td>1.000000</td>\n",
       "    </tr>\n",
       "    <tr>\n",
       "      <th>50%</th>\n",
       "      <td>279.000000</td>\n",
       "      <td>1.000000</td>\n",
       "      <td>9.000000</td>\n",
       "      <td>2.000000</td>\n",
       "      <td>2.000000</td>\n",
       "      <td>7.000000</td>\n",
       "      <td>1.000000</td>\n",
       "      <td>3.000000</td>\n",
       "      <td>26.000000</td>\n",
       "      <td>77694.000000</td>\n",
       "      <td>...</td>\n",
       "      <td>52.910000</td>\n",
       "      <td>3.000000</td>\n",
       "      <td>20.000000</td>\n",
       "      <td>66551.000000</td>\n",
       "      <td>18.490000</td>\n",
       "      <td>3.000000</td>\n",
       "      <td>0.875000</td>\n",
       "      <td>2.000000</td>\n",
       "      <td>1.000000</td>\n",
       "      <td>1.000000</td>\n",
       "    </tr>\n",
       "    <tr>\n",
       "      <th>75%</th>\n",
       "      <td>368.500000</td>\n",
       "      <td>2.000000</td>\n",
       "      <td>9.000000</td>\n",
       "      <td>2.000000</td>\n",
       "      <td>2.000000</td>\n",
       "      <td>8.000000</td>\n",
       "      <td>1.000000</td>\n",
       "      <td>5.000000</td>\n",
       "      <td>49.000000</td>\n",
       "      <td>146960.000000</td>\n",
       "      <td>...</td>\n",
       "      <td>64.110000</td>\n",
       "      <td>6.000000</td>\n",
       "      <td>45.000000</td>\n",
       "      <td>144591.500000</td>\n",
       "      <td>40.165000</td>\n",
       "      <td>8.000000</td>\n",
       "      <td>1.171550</td>\n",
       "      <td>2.000000</td>\n",
       "      <td>1.000000</td>\n",
       "      <td>2.000000</td>\n",
       "    </tr>\n",
       "    <tr>\n",
       "      <th>max</th>\n",
       "      <td>458.000000</td>\n",
       "      <td>2.000000</td>\n",
       "      <td>9.000000</td>\n",
       "      <td>9.000000</td>\n",
       "      <td>2.000000</td>\n",
       "      <td>9.000000</td>\n",
       "      <td>2.000000</td>\n",
       "      <td>8.000000</td>\n",
       "      <td>73.000000</td>\n",
       "      <td>229649.000000</td>\n",
       "      <td>...</td>\n",
       "      <td>64.110000</td>\n",
       "      <td>8.000000</td>\n",
       "      <td>73.000000</td>\n",
       "      <td>230347.000000</td>\n",
       "      <td>63.990000</td>\n",
       "      <td>67.000000</td>\n",
       "      <td>7.342500</td>\n",
       "      <td>9.000000</td>\n",
       "      <td>2.000000</td>\n",
       "      <td>9.000000</td>\n",
       "    </tr>\n",
       "  </tbody>\n",
       "</table>\n",
       "<p>8 rows × 27 columns</p>\n",
       "</div>"
      ],
      "text/plain": [
       "               id         sex    religion  occupation  social_status  \\\n",
       "count  359.000000  359.000000  359.000000  359.000000     359.000000   \n",
       "mean   279.000000    1.292479    7.041783    2.551532       1.688022   \n",
       "std    103.778611    0.455536    2.829599    2.389921       0.463947   \n",
       "min    100.000000    1.000000    1.000000    1.000000       1.000000   \n",
       "25%    189.500000    1.000000    4.000000    1.000000       1.000000   \n",
       "50%    279.000000    1.000000    9.000000    2.000000       2.000000   \n",
       "75%    368.500000    2.000000    9.000000    2.000000       2.000000   \n",
       "max    458.000000    2.000000    9.000000    9.000000       2.000000   \n",
       "\n",
       "       allegiance_last  allegiance_switched  intro_season  intro_episode  \\\n",
       "count       359.000000           359.000000    359.000000     359.000000   \n",
       "mean          5.587744             1.153203      3.487465      29.072423   \n",
       "std           2.923124             0.360686      2.254538      22.426672   \n",
       "min           1.000000             1.000000      1.000000       1.000000   \n",
       "25%           3.000000             1.000000      1.000000       9.000000   \n",
       "50%           7.000000             1.000000      3.000000      26.000000   \n",
       "75%           8.000000             1.000000      5.000000      49.000000   \n",
       "max           9.000000             2.000000      8.000000      73.000000   \n",
       "\n",
       "       intro_time_sec  ...  censor_time_hrs  exp_season  exp_episode  \\\n",
       "count      359.000000  ...       359.000000  359.000000   359.000000   \n",
       "mean     87278.835655  ...        46.922368    3.487465    26.350975   \n",
       "std      68897.206765  ...        19.873473    2.427550    23.275600   \n",
       "min          1.000000  ...         0.100000    1.000000     1.000000   \n",
       "25%      25348.000000  ...        31.965000    1.000000     5.000000   \n",
       "50%      77694.000000  ...        52.910000    3.000000    20.000000   \n",
       "75%     146960.000000  ...        64.110000    6.000000    45.000000   \n",
       "max     229649.000000  ...        64.110000    8.000000    73.000000   \n",
       "\n",
       "        exp_time_sec  exp_time_hrs  featured_episode_count  prominence  \\\n",
       "count     359.000000    359.000000              359.000000  359.000000   \n",
       "mean    81643.732591     22.678914                7.805014    1.129215   \n",
       "std     73265.393027     20.351597               11.981638    1.269363   \n",
       "min         8.000000      0.000000                1.000000    0.111100   \n",
       "25%     14496.500000      4.030000                1.000000    0.333300   \n",
       "50%     66551.000000     18.490000                3.000000    0.875000   \n",
       "75%    144591.500000     40.165000                8.000000    1.171550   \n",
       "max    230347.000000     63.990000               67.000000    7.342500   \n",
       "\n",
       "       top_location  geo_location  time_of_day  \n",
       "count    212.000000    212.000000   212.000000  \n",
       "mean       2.377358      1.174528     2.509434  \n",
       "std        2.362635      0.380462     2.778541  \n",
       "min        1.000000      1.000000     1.000000  \n",
       "25%        1.000000      1.000000     1.000000  \n",
       "50%        2.000000      1.000000     1.000000  \n",
       "75%        2.000000      1.000000     2.000000  \n",
       "max        9.000000      2.000000     9.000000  \n",
       "\n",
       "[8 rows x 27 columns]"
      ]
     },
     "execution_count": null,
     "metadata": {},
     "output_type": "execute_result"
    }
   ],
   "source": [
    "df_got.describe()"
   ]
  },
  {
   "cell_type": "markdown",
   "id": "f6861b1a",
   "metadata": {},
   "source": [
    "### info()"
   ]
  },
  {
   "cell_type": "code",
   "execution_count": null,
   "id": "c9d849d8",
   "metadata": {},
   "outputs": [
    {
     "name": "stdout",
     "output_type": "stream",
     "text": [
      "<class 'pandas.core.frame.DataFrame'>\n",
      "RangeIndex: 359 entries, 0 to 358\n",
      "Data columns (total 35 columns):\n",
      " #   Column                  Non-Null Count  Dtype  \n",
      "---  ------                  --------------  -----  \n",
      " 0   id                      359 non-null    int64  \n",
      " 1   name                    359 non-null    object \n",
      " 2   sex                     359 non-null    int64  \n",
      " 3   religion                359 non-null    int64  \n",
      " 4   occupation              359 non-null    int64  \n",
      " 5   social_status           359 non-null    int64  \n",
      " 6   allegiance_last         359 non-null    int64  \n",
      " 7   allegiance_switched     359 non-null    int64  \n",
      " 8   intro_season            359 non-null    int64  \n",
      " 9   intro_episode           359 non-null    int64  \n",
      " 10  intro_time_sec          359 non-null    int64  \n",
      " 11  intro_time_hrs          359 non-null    float64\n",
      " 12  dth_flag                359 non-null    int64  \n",
      " 13  dth_season              212 non-null    float64\n",
      " 14  dth_episode             212 non-null    float64\n",
      " 15  dth_time_sec            212 non-null    float64\n",
      " 16  dth_time_hrs            212 non-null    float64\n",
      " 17  censor_time_sec         359 non-null    int64  \n",
      " 18  censor_time_hrs         359 non-null    float64\n",
      " 19  exp_season              359 non-null    int64  \n",
      " 20  exp_episode             359 non-null    int64  \n",
      " 21  exp_time_sec            359 non-null    int64  \n",
      " 22  exp_time_hrs            359 non-null    float64\n",
      " 23  featured_episode_count  359 non-null    int64  \n",
      " 24  prominence              359 non-null    float64\n",
      " 25  dth_description         212 non-null    object \n",
      " 26  icd10_dx_code           212 non-null    object \n",
      " 27  icd10_dx_text           212 non-null    object \n",
      " 28  icd10_cause_code        209 non-null    object \n",
      " 29  icd10_cause_text        209 non-null    object \n",
      " 30  icd10_place_code        209 non-null    object \n",
      " 31  icd10_place_text        209 non-null    object \n",
      " 32  top_location            212 non-null    float64\n",
      " 33  geo_location            212 non-null    float64\n",
      " 34  time_of_day             212 non-null    float64\n",
      "dtypes: float64(11), int64(16), object(8)\n",
      "memory usage: 98.3+ KB\n"
     ]
    }
   ],
   "source": [
    "df_got.info()"
   ]
  },
  {
   "cell_type": "markdown",
   "id": "d352cb9a",
   "metadata": {},
   "source": [
    "## Accessing Elements\n",
    "We can access elements in a pandas dataframe by using column and rownames using the `.loc` method and using indices using the `.iloc` method.\n",
    "Element access can also be done by chaining column selection operations with row selection operations.\n",
    "The columns can also simply be accessed using `[]` operator as `df['col_name']`. Below are a few examples of accessing elements."
   ]
  },
  {
   "cell_type": "markdown",
   "id": "3fdbe0dd",
   "metadata": {},
   "source": [
    "#### Accessing a row"
   ]
  },
  {
   "cell_type": "code",
   "execution_count": null,
   "id": "058d7d8a",
   "metadata": {},
   "outputs": [
    {
     "data": {
      "text/plain": [
       "id                                                         100\n",
       "name                                              Waymar Royce\n",
       "sex                                                          1\n",
       "religion                                                     9\n",
       "occupation                                                   2\n",
       "social_status                                                2\n",
       "allegiance_last                                              3\n",
       "allegiance_switched                                          1\n",
       "intro_season                                                 1\n",
       "intro_episode                                                1\n",
       "intro_time_sec                                               1\n",
       "intro_time_hrs                                             0.0\n",
       "dth_flag                                                     1\n",
       "dth_season                                                 1.0\n",
       "dth_episode                                                1.0\n",
       "dth_time_sec                                             342.0\n",
       "dth_time_hrs                                               0.1\n",
       "censor_time_sec                                            342\n",
       "censor_time_hrs                                            0.1\n",
       "exp_season                                                   1\n",
       "exp_episode                                                  1\n",
       "exp_time_sec                                               342\n",
       "exp_time_hrs                                               0.1\n",
       "featured_episode_count                                       1\n",
       "prominence                                                 1.0\n",
       "dth_description           Killed by a white walker in a forest\n",
       "icd10_dx_code                                              T14\n",
       "icd10_dx_text                Injury of unspecified body region\n",
       "icd10_cause_code                                         X99.0\n",
       "icd10_cause_text                              Assault by knife\n",
       "icd10_place_code                                        Y92.84\n",
       "icd10_place_text                                        Forest\n",
       "top_location                                               2.0\n",
       "geo_location                                               1.0\n",
       "time_of_day                                                1.0\n",
       "Name: 0, dtype: object"
      ]
     },
     "execution_count": null,
     "metadata": {},
     "output_type": "execute_result"
    }
   ],
   "source": [
    "df_got.iloc[0]"
   ]
  },
  {
   "cell_type": "markdown",
   "id": "69b62461",
   "metadata": {},
   "source": [
    "#### Accessing a column"
   ]
  },
  {
   "cell_type": "code",
   "execution_count": null,
   "id": "759886b0",
   "metadata": {},
   "outputs": [
    {
     "data": {
      "text/plain": [
       "0      1\n",
       "1      1\n",
       "2      1\n",
       "3      1\n",
       "4      1\n",
       "      ..\n",
       "354    8\n",
       "355    8\n",
       "356    8\n",
       "357    8\n",
       "358    8\n",
       "Name: intro_season, Length: 359, dtype: int64"
      ]
     },
     "execution_count": null,
     "metadata": {},
     "output_type": "execute_result"
    }
   ],
   "source": [
    "df_got['intro_season']"
   ]
  },
  {
   "cell_type": "markdown",
   "id": "126ae534",
   "metadata": {},
   "source": [
    "#### Accessing a cell"
   ]
  },
  {
   "cell_type": "code",
   "execution_count": null,
   "id": "e0f895f2",
   "metadata": {},
   "outputs": [
    {
     "name": "stdout",
     "output_type": "stream",
     "text": [
      "100\n",
      "100\n",
      "100\n",
      "100\n"
     ]
    }
   ],
   "source": [
    "print(df_got.iloc[0,0])\n",
    "print(df_got.iloc[0]['id'])\n",
    "print(df_got['id'][0])\n",
    "print(df_got.loc[0,'id'])"
   ]
  },
  {
   "cell_type": "markdown",
   "id": "2c04decd",
   "metadata": {
    "tags": []
   },
   "source": [
    "## Filtering\n",
    "\n",
    "We can use logical operations to define what to include in a filtered dataframe. For example `df['intro_season'] > 2` returns a Series with length the same as datatable rowcount of True/False. We can bracket in these True/False vectors and they will return only those rows that match. It appears redundant, but for the example above it's `df[df['intro_season'] > 2]`. df is referenced twice: the \"inside\" df creates the vector of True/False values, while the \"outside\" df returns only the 'True'values."
   ]
  },
  {
   "cell_type": "code",
   "execution_count": null,
   "id": "c00c68c7",
   "metadata": {},
   "outputs": [
    {
     "name": "stdout",
     "output_type": "stream",
     "text": [
      "(359,)\n",
      "(206, 35)\n"
     ]
    }
   ],
   "source": [
    "print((df_got['intro_season'] > 2).shape)\n",
    "print(df_got[df_got['intro_season'] > 2].shape)"
   ]
  },
  {
   "cell_type": "markdown",
   "id": "3cc560ad",
   "metadata": {
    "tags": []
   },
   "source": [
    "There are lots of uses for filtering. As a Life Actuary, for example, I may want to only model on standard lives. Data cleanup always requires some filtering skills. You can even use regex to filter out using values in text fields!\n",
    "\n",
    "## Data Munging\n",
    "\n",
    "### The Importance of Vectorized Functions - Be Pythonic!\n",
    "\n",
    "Being \"pythonic\" is often taken to mean writing clear, interpretable code which takes advantage of existing structures and operations in Python.\n",
    "\n",
    "There are two structures that will help a Data Analyst/Scientist/Actuary manipulate data both readably and efficiently:\n",
    "\n",
    "1. Built-in functions in packages such as pandas and numpy; these may even be compiled to C for speed above an interpreted language like Python\n",
    "2. \"lambda\" functions that can be applied to \"iterables\" like lists and data frames\n",
    " \n",
    "#### lambda?\n",
    "\n",
    "A lambda function is an anonymous function called with the lambda keyword. For example `lambda x: x+1` adds 1 to the argument passed to it. Lambda functions can be used with functions like map(), filter(), or pandas.apply() in order to efficiently apply the function to an entire dataframe (or row/column), list, etc. It is more efficient and \"cleaner\" than a (non-pythonic) loop. The below example compares the time taken with a for loop vs. a lambda function vs. a bult-in functions "
   ]
  },
  {
   "cell_type": "code",
   "execution_count": null,
   "id": "3c735d48",
   "metadata": {},
   "outputs": [
    {
     "name": "stdout",
     "output_type": "stream",
     "text": [
      "Processing time - for loop approach: 14.641 ms.\n",
      "Processing time - apply() approach: 1.098 ms.\n",
      "Processing time - built-in vectorized function [replace()] approach: 0.978 ms.\n",
      "Processing time - list comprehension approach: 0.740 ms.\n",
      "Processing time - Python's map() approach: 0.955 ms.\n"
     ]
    }
   ],
   "source": [
    "d1 = df_episode.copy()\n",
    "t1 = time.process_time()\n",
    "ind = 0\n",
    "for i in d1['episode_name']:\n",
    "    d1.loc[ind,'ep_name_1'] = re.sub(\"\\\"\",\"\",i)\n",
    "    ind+=1\n",
    "te = time.process_time()\n",
    "print('Processing time - for loop approach: {:.3f} ms.'.format(1000*(te-t1)))\n",
    "\n",
    "t1 = time.process_time()\n",
    "d1['ep_name_2'] = d1['episode_name'].apply(lambda x: re.sub(\"\\\"\",\"\",x))\n",
    "te = time.process_time()\n",
    "print('Processing time - apply() approach: {:.3f} ms.'.format(1000*(te-t1)))\n",
    "\n",
    "t1 = time.process_time()\n",
    "d1['ep_name_3'] = d1['episode_name'].str.replace('\"','')\n",
    "te = time.process_time()\n",
    "print('Processing time - built-in vectorized function [replace()] approach: {:.3f} ms.'.format(1000*(te-t1)))\n",
    "\n",
    "t1 = time.process_time()\n",
    "d1['ep_name_4'] = [re.sub(\"\\\"\",\"\",i) for i in d1['episode_name']]\n",
    "te = time.process_time()\n",
    "print('Processing time - list comprehension approach: {:.3f} ms.'.format(1000*(te-t1)))\n",
    "\n",
    "t1 = time.process_time()\n",
    "#d1['ep_name_5'] = pd.Series(map(lambda x: x.str.replace('\"',''),d1['episode_name']))\n",
    "d1['ep_name_5'] = pd.Series(map(re.sub,['\"']*d1.shape[0],['']*d1.shape[0],d1['episode_name']))\n",
    "te = time.process_time()\n",
    "print('Processing time - Python\\'s map() approach: {:.3f} ms.'.format( 1000*(te - t1)))"
   ]
  },
  {
   "cell_type": "markdown",
   "id": "de52330b",
   "metadata": {},
   "source": [
    "**Note:** The \"winner\" here may not be the fastest in all scenarios, but list comprehension and mapping are always fast!\n",
    "\n",
    "A sample of the identical fields created under each process:"
   ]
  },
  {
   "cell_type": "code",
   "execution_count": null,
   "id": "6bd5298d",
   "metadata": {},
   "outputs": [
    {
     "data": {
      "text/html": [
       "<div>\n",
       "<style scoped>\n",
       "    .dataframe tbody tr th:only-of-type {\n",
       "        vertical-align: middle;\n",
       "    }\n",
       "\n",
       "    .dataframe tbody tr th {\n",
       "        vertical-align: top;\n",
       "    }\n",
       "\n",
       "    .dataframe thead th {\n",
       "        text-align: right;\n",
       "    }\n",
       "</style>\n",
       "<table border=\"1\" class=\"dataframe\">\n",
       "  <thead>\n",
       "    <tr style=\"text-align: right;\">\n",
       "      <th></th>\n",
       "      <th>season</th>\n",
       "      <th>episode_number</th>\n",
       "      <th>episode_name</th>\n",
       "      <th>gross_running_time</th>\n",
       "      <th>opening_credits_time</th>\n",
       "      <th>closing_credits_time</th>\n",
       "      <th>net_running_time</th>\n",
       "      <th>cumulative_net_running_time</th>\n",
       "      <th>ep_name_1</th>\n",
       "      <th>ep_name_2</th>\n",
       "      <th>ep_name_3</th>\n",
       "      <th>ep_name_4</th>\n",
       "      <th>ep_name_5</th>\n",
       "    </tr>\n",
       "  </thead>\n",
       "  <tbody>\n",
       "    <tr>\n",
       "      <th>0</th>\n",
       "      <td>1</td>\n",
       "      <td>1</td>\n",
       "      <td>\"Winter Is Coming\"</td>\n",
       "      <td>3546</td>\n",
       "      <td>110</td>\n",
       "      <td>33</td>\n",
       "      <td>3403</td>\n",
       "      <td>3403</td>\n",
       "      <td>Winter Is Coming</td>\n",
       "      <td>Winter Is Coming</td>\n",
       "      <td>Winter Is Coming</td>\n",
       "      <td>Winter Is Coming</td>\n",
       "      <td>Winter Is Coming</td>\n",
       "    </tr>\n",
       "    <tr>\n",
       "      <th>1</th>\n",
       "      <td>1</td>\n",
       "      <td>2</td>\n",
       "      <td>\"The Kingsroad\"</td>\n",
       "      <td>3182</td>\n",
       "      <td>111</td>\n",
       "      <td>34</td>\n",
       "      <td>3037</td>\n",
       "      <td>6440</td>\n",
       "      <td>The Kingsroad</td>\n",
       "      <td>The Kingsroad</td>\n",
       "      <td>The Kingsroad</td>\n",
       "      <td>The Kingsroad</td>\n",
       "      <td>The Kingsroad</td>\n",
       "    </tr>\n",
       "    <tr>\n",
       "      <th>2</th>\n",
       "      <td>1</td>\n",
       "      <td>3</td>\n",
       "      <td>\"Lord Snow\"</td>\n",
       "      <td>3294</td>\n",
       "      <td>96</td>\n",
       "      <td>27</td>\n",
       "      <td>3171</td>\n",
       "      <td>9611</td>\n",
       "      <td>Lord Snow</td>\n",
       "      <td>Lord Snow</td>\n",
       "      <td>Lord Snow</td>\n",
       "      <td>Lord Snow</td>\n",
       "      <td>Lord Snow</td>\n",
       "    </tr>\n",
       "    <tr>\n",
       "      <th>3</th>\n",
       "      <td>1</td>\n",
       "      <td>4</td>\n",
       "      <td>\"Cripples, Bastards, and Broken Things\"</td>\n",
       "      <td>3201</td>\n",
       "      <td>96</td>\n",
       "      <td>26</td>\n",
       "      <td>3079</td>\n",
       "      <td>12690</td>\n",
       "      <td>Cripples, Bastards, and Broken Things</td>\n",
       "      <td>Cripples, Bastards, and Broken Things</td>\n",
       "      <td>Cripples, Bastards, and Broken Things</td>\n",
       "      <td>Cripples, Bastards, and Broken Things</td>\n",
       "      <td>Cripples, Bastards, and Broken Things</td>\n",
       "    </tr>\n",
       "    <tr>\n",
       "      <th>4</th>\n",
       "      <td>1</td>\n",
       "      <td>5</td>\n",
       "      <td>\"The Wolf and the Lion\"</td>\n",
       "      <td>3123</td>\n",
       "      <td>101</td>\n",
       "      <td>24</td>\n",
       "      <td>2998</td>\n",
       "      <td>15688</td>\n",
       "      <td>The Wolf and the Lion</td>\n",
       "      <td>The Wolf and the Lion</td>\n",
       "      <td>The Wolf and the Lion</td>\n",
       "      <td>The Wolf and the Lion</td>\n",
       "      <td>The Wolf and the Lion</td>\n",
       "    </tr>\n",
       "  </tbody>\n",
       "</table>\n",
       "</div>"
      ],
      "text/plain": [
       "   season  episode_number                             episode_name  \\\n",
       "0       1               1                       \"Winter Is Coming\"   \n",
       "1       1               2                          \"The Kingsroad\"   \n",
       "2       1               3                              \"Lord Snow\"   \n",
       "3       1               4  \"Cripples, Bastards, and Broken Things\"   \n",
       "4       1               5                  \"The Wolf and the Lion\"   \n",
       "\n",
       "   gross_running_time  opening_credits_time  closing_credits_time  \\\n",
       "0                3546                   110                    33   \n",
       "1                3182                   111                    34   \n",
       "2                3294                    96                    27   \n",
       "3                3201                    96                    26   \n",
       "4                3123                   101                    24   \n",
       "\n",
       "   net_running_time  cumulative_net_running_time  \\\n",
       "0              3403                         3403   \n",
       "1              3037                         6440   \n",
       "2              3171                         9611   \n",
       "3              3079                        12690   \n",
       "4              2998                        15688   \n",
       "\n",
       "                               ep_name_1  \\\n",
       "0                       Winter Is Coming   \n",
       "1                          The Kingsroad   \n",
       "2                              Lord Snow   \n",
       "3  Cripples, Bastards, and Broken Things   \n",
       "4                  The Wolf and the Lion   \n",
       "\n",
       "                               ep_name_2  \\\n",
       "0                       Winter Is Coming   \n",
       "1                          The Kingsroad   \n",
       "2                              Lord Snow   \n",
       "3  Cripples, Bastards, and Broken Things   \n",
       "4                  The Wolf and the Lion   \n",
       "\n",
       "                               ep_name_3  \\\n",
       "0                       Winter Is Coming   \n",
       "1                          The Kingsroad   \n",
       "2                              Lord Snow   \n",
       "3  Cripples, Bastards, and Broken Things   \n",
       "4                  The Wolf and the Lion   \n",
       "\n",
       "                               ep_name_4  \\\n",
       "0                       Winter Is Coming   \n",
       "1                          The Kingsroad   \n",
       "2                              Lord Snow   \n",
       "3  Cripples, Bastards, and Broken Things   \n",
       "4                  The Wolf and the Lion   \n",
       "\n",
       "                               ep_name_5  \n",
       "0                       Winter Is Coming  \n",
       "1                          The Kingsroad  \n",
       "2                              Lord Snow  \n",
       "3  Cripples, Bastards, and Broken Things  \n",
       "4                  The Wolf and the Lion  "
      ]
     },
     "execution_count": null,
     "metadata": {},
     "output_type": "execute_result"
    }
   ],
   "source": [
    "d1.head()"
   ]
  },
  {
   "cell_type": "markdown",
   "id": "2e31f982",
   "metadata": {},
   "source": [
    "### Variable Persistence\n",
    "\n",
    "Since we created a copy of `df` called `d1` to operate on, we have two versions of this same data. Normally, this is fine, but for large datasets and limited compute/memory resources, we may want to remove our experimental `d1` with the keyword `del`. A keyword is similar to a function - all that matters for now is that it does not use a parenthesis. Function syntax: `print(object)`. Keyword syntax: `del object`. "
   ]
  },
  {
   "cell_type": "code",
   "execution_count": null,
   "id": "395648f7",
   "metadata": {},
   "outputs": [],
   "source": [
    "del d1"
   ]
  },
  {
   "cell_type": "markdown",
   "id": "0fed5af5",
   "metadata": {},
   "source": [
    "Can we avoid creating copies? Are there even more efficient ways to do this?\n",
    "\n",
    "### By Value vs. By Reference\n",
    "\n",
    "When a developer refers to an object *by value*, they are talking about operating on the data contained within the object, but with no change to the object itself (like our `copy()` example above). When its referred *by reference*, this means we are operating on (and potentially changing) the object itself. See the below example for a simple data frame."
   ]
  },
  {
   "cell_type": "code",
   "execution_count": null,
   "id": "2d6734dd",
   "metadata": {},
   "outputs": [
    {
     "name": "stdout",
     "output_type": "stream",
     "text": [
      "Changing the copy does not change the original. The copy:\n"
     ]
    },
    {
     "data": {
      "text/html": [
       "<div>\n",
       "<style scoped>\n",
       "    .dataframe tbody tr th:only-of-type {\n",
       "        vertical-align: middle;\n",
       "    }\n",
       "\n",
       "    .dataframe tbody tr th {\n",
       "        vertical-align: top;\n",
       "    }\n",
       "\n",
       "    .dataframe thead th {\n",
       "        text-align: right;\n",
       "    }\n",
       "</style>\n",
       "<table border=\"1\" class=\"dataframe\">\n",
       "  <thead>\n",
       "    <tr style=\"text-align: right;\">\n",
       "      <th></th>\n",
       "      <th>a</th>\n",
       "      <th>b</th>\n",
       "      <th>newField</th>\n",
       "    </tr>\n",
       "  </thead>\n",
       "  <tbody>\n",
       "    <tr>\n",
       "      <th>0</th>\n",
       "      <td>1</td>\n",
       "      <td>100</td>\n",
       "      <td>101</td>\n",
       "    </tr>\n",
       "    <tr>\n",
       "      <th>1</th>\n",
       "      <td>2</td>\n",
       "      <td>200</td>\n",
       "      <td>202</td>\n",
       "    </tr>\n",
       "    <tr>\n",
       "      <th>2</th>\n",
       "      <td>3</td>\n",
       "      <td>300</td>\n",
       "      <td>303</td>\n",
       "    </tr>\n",
       "    <tr>\n",
       "      <th>3</th>\n",
       "      <td>4</td>\n",
       "      <td>400</td>\n",
       "      <td>404</td>\n",
       "    </tr>\n",
       "  </tbody>\n",
       "</table>\n",
       "</div>"
      ],
      "text/plain": [
       "   a    b  newField\n",
       "0  1  100       101\n",
       "1  2  200       202\n",
       "2  3  300       303\n",
       "3  4  400       404"
      ]
     },
     "metadata": {},
     "output_type": "display_data"
    },
    {
     "name": "stdout",
     "output_type": "stream",
     "text": [
      "      but the original is still: \n"
     ]
    },
    {
     "data": {
      "text/html": [
       "<div>\n",
       "<style scoped>\n",
       "    .dataframe tbody tr th:only-of-type {\n",
       "        vertical-align: middle;\n",
       "    }\n",
       "\n",
       "    .dataframe tbody tr th {\n",
       "        vertical-align: top;\n",
       "    }\n",
       "\n",
       "    .dataframe thead th {\n",
       "        text-align: right;\n",
       "    }\n",
       "</style>\n",
       "<table border=\"1\" class=\"dataframe\">\n",
       "  <thead>\n",
       "    <tr style=\"text-align: right;\">\n",
       "      <th></th>\n",
       "      <th>a</th>\n",
       "      <th>b</th>\n",
       "    </tr>\n",
       "  </thead>\n",
       "  <tbody>\n",
       "    <tr>\n",
       "      <th>0</th>\n",
       "      <td>1</td>\n",
       "      <td>100</td>\n",
       "    </tr>\n",
       "    <tr>\n",
       "      <th>1</th>\n",
       "      <td>2</td>\n",
       "      <td>200</td>\n",
       "    </tr>\n",
       "    <tr>\n",
       "      <th>2</th>\n",
       "      <td>3</td>\n",
       "      <td>300</td>\n",
       "    </tr>\n",
       "    <tr>\n",
       "      <th>3</th>\n",
       "      <td>4</td>\n",
       "      <td>400</td>\n",
       "    </tr>\n",
       "  </tbody>\n",
       "</table>\n",
       "</div>"
      ],
      "text/plain": [
       "   a    b\n",
       "0  1  100\n",
       "1  2  200\n",
       "2  3  300\n",
       "3  4  400"
      ]
     },
     "metadata": {},
     "output_type": "display_data"
    },
    {
     "name": "stdout",
     "output_type": "stream",
     "text": [
      "Changing the \"by value\" variable DOES change the original:\n",
      "   run: tempByReference['newField'] = tempByReference['a']+tempByReference['b']\n",
      "   changes temp even though tempByReference was operated on:\n"
     ]
    },
    {
     "data": {
      "text/html": [
       "<div>\n",
       "<style scoped>\n",
       "    .dataframe tbody tr th:only-of-type {\n",
       "        vertical-align: middle;\n",
       "    }\n",
       "\n",
       "    .dataframe tbody tr th {\n",
       "        vertical-align: top;\n",
       "    }\n",
       "\n",
       "    .dataframe thead th {\n",
       "        text-align: right;\n",
       "    }\n",
       "</style>\n",
       "<table border=\"1\" class=\"dataframe\">\n",
       "  <thead>\n",
       "    <tr style=\"text-align: right;\">\n",
       "      <th></th>\n",
       "      <th>a</th>\n",
       "      <th>b</th>\n",
       "      <th>newField</th>\n",
       "    </tr>\n",
       "  </thead>\n",
       "  <tbody>\n",
       "    <tr>\n",
       "      <th>0</th>\n",
       "      <td>1</td>\n",
       "      <td>100</td>\n",
       "      <td>101</td>\n",
       "    </tr>\n",
       "    <tr>\n",
       "      <th>1</th>\n",
       "      <td>2</td>\n",
       "      <td>200</td>\n",
       "      <td>202</td>\n",
       "    </tr>\n",
       "    <tr>\n",
       "      <th>2</th>\n",
       "      <td>3</td>\n",
       "      <td>300</td>\n",
       "      <td>303</td>\n",
       "    </tr>\n",
       "    <tr>\n",
       "      <th>3</th>\n",
       "      <td>4</td>\n",
       "      <td>400</td>\n",
       "      <td>404</td>\n",
       "    </tr>\n",
       "  </tbody>\n",
       "</table>\n",
       "</div>"
      ],
      "text/plain": [
       "   a    b  newField\n",
       "0  1  100       101\n",
       "1  2  200       202\n",
       "2  3  300       303\n",
       "3  4  400       404"
      ]
     },
     "metadata": {},
     "output_type": "display_data"
    }
   ],
   "source": [
    "temp = pd.DataFrame({'a':[1,2,3,4],'b':[100,200,300,400]})\n",
    "tempByValue = temp.copy()\n",
    "tempByReference = temp\n",
    "tempByValue['newField'] = tempByValue['a']+tempByValue['b']\n",
    "print('Changing the copy does not change the original. The copy:')\n",
    "display(tempByValue)\n",
    "print('      but the original is still: ')\n",
    "display(temp)\n",
    "tempByReference['newField'] = tempByReference['a']+tempByReference['b']\n",
    "print('Changing the \"by value\" variable DOES change the original:')\n",
    "print(\"   run: tempByReference['newField'] = tempByReference['a']+tempByReference['b']\")\n",
    "print(\"   changes temp even though tempByReference was operated on:\")\n",
    "display(temp)"
   ]
  },
  {
   "cell_type": "code",
   "execution_count": null,
   "id": "4b9d6c44",
   "metadata": {},
   "outputs": [],
   "source": [
    "del temp, tempByReference, tempByValue"
   ]
  },
  {
   "cell_type": "markdown",
   "id": "707a0de4",
   "metadata": {},
   "source": [
    "#### inplace\n",
    "pandas has a useful argument in many functions called `inplace`. If this == `True` the operation is performed by reference and the original table is altered. It defaults to `False`. Let's see how we could use this to do our efficient `replace()` above in one step"
   ]
  },
  {
   "cell_type": "code",
   "execution_count": null,
   "id": "ac423045",
   "metadata": {},
   "outputs": [
    {
     "data": {
      "text/html": [
       "<div>\n",
       "<style scoped>\n",
       "    .dataframe tbody tr th:only-of-type {\n",
       "        vertical-align: middle;\n",
       "    }\n",
       "\n",
       "    .dataframe tbody tr th {\n",
       "        vertical-align: top;\n",
       "    }\n",
       "\n",
       "    .dataframe thead th {\n",
       "        text-align: right;\n",
       "    }\n",
       "</style>\n",
       "<table border=\"1\" class=\"dataframe\">\n",
       "  <thead>\n",
       "    <tr style=\"text-align: right;\">\n",
       "      <th></th>\n",
       "      <th>season</th>\n",
       "      <th>episode_number</th>\n",
       "      <th>episode_name</th>\n",
       "      <th>gross_running_time</th>\n",
       "      <th>opening_credits_time</th>\n",
       "      <th>closing_credits_time</th>\n",
       "      <th>net_running_time</th>\n",
       "      <th>cumulative_net_running_time</th>\n",
       "    </tr>\n",
       "  </thead>\n",
       "  <tbody>\n",
       "    <tr>\n",
       "      <th>0</th>\n",
       "      <td>1</td>\n",
       "      <td>1</td>\n",
       "      <td>Winter Is Coming</td>\n",
       "      <td>3546</td>\n",
       "      <td>110</td>\n",
       "      <td>33</td>\n",
       "      <td>3403</td>\n",
       "      <td>3403</td>\n",
       "    </tr>\n",
       "    <tr>\n",
       "      <th>1</th>\n",
       "      <td>1</td>\n",
       "      <td>2</td>\n",
       "      <td>The Kingsroad</td>\n",
       "      <td>3182</td>\n",
       "      <td>111</td>\n",
       "      <td>34</td>\n",
       "      <td>3037</td>\n",
       "      <td>6440</td>\n",
       "    </tr>\n",
       "    <tr>\n",
       "      <th>2</th>\n",
       "      <td>1</td>\n",
       "      <td>3</td>\n",
       "      <td>Lord Snow</td>\n",
       "      <td>3294</td>\n",
       "      <td>96</td>\n",
       "      <td>27</td>\n",
       "      <td>3171</td>\n",
       "      <td>9611</td>\n",
       "    </tr>\n",
       "    <tr>\n",
       "      <th>3</th>\n",
       "      <td>1</td>\n",
       "      <td>4</td>\n",
       "      <td>Cripples, Bastards, and Broken Things</td>\n",
       "      <td>3201</td>\n",
       "      <td>96</td>\n",
       "      <td>26</td>\n",
       "      <td>3079</td>\n",
       "      <td>12690</td>\n",
       "    </tr>\n",
       "    <tr>\n",
       "      <th>4</th>\n",
       "      <td>1</td>\n",
       "      <td>5</td>\n",
       "      <td>The Wolf and the Lion</td>\n",
       "      <td>3123</td>\n",
       "      <td>101</td>\n",
       "      <td>24</td>\n",
       "      <td>2998</td>\n",
       "      <td>15688</td>\n",
       "    </tr>\n",
       "  </tbody>\n",
       "</table>\n",
       "</div>"
      ],
      "text/plain": [
       "   season  episode_number                           episode_name  \\\n",
       "0       1               1                       Winter Is Coming   \n",
       "1       1               2                          The Kingsroad   \n",
       "2       1               3                              Lord Snow   \n",
       "3       1               4  Cripples, Bastards, and Broken Things   \n",
       "4       1               5                  The Wolf and the Lion   \n",
       "\n",
       "   gross_running_time  opening_credits_time  closing_credits_time  \\\n",
       "0                3546                   110                    33   \n",
       "1                3182                   111                    34   \n",
       "2                3294                    96                    27   \n",
       "3                3201                    96                    26   \n",
       "4                3123                   101                    24   \n",
       "\n",
       "   net_running_time  cumulative_net_running_time  \n",
       "0              3403                         3403  \n",
       "1              3037                         6440  \n",
       "2              3171                         9611  \n",
       "3              3079                        12690  \n",
       "4              2998                        15688  "
      ]
     },
     "metadata": {},
     "output_type": "display_data"
    }
   ],
   "source": [
    "df_episode['episode_name'].replace('\"','',regex=True,inplace=True)\n",
    "display(df_episode.head())"
   ]
  },
  {
   "cell_type": "markdown",
   "id": "57fb7ee3",
   "metadata": {},
   "source": [
    "## Merging\n",
    "\n",
    "In pandas, the `merge()` function matches rows of one table with rows of another similar to SQL's `join` functon. We won't go into great depth, but just like in SQL, you can do inner (defaults), left, right, outer, and cross-joins. You can specify the fields to join by like in a `by` clause (just make sure your types are compatible).\n",
    "\n",
    "### Merge Example\n",
    "\n",
    "#### Problem:\n",
    "\n",
    "We want to merge the character data with the episode data in order to get more fields that we might want to use in a model. \n",
    "\n",
    "#### What to merge on?\n",
    "\n",
    "Identical fields could be named similarly in two different data sources. But for now, let's see if the two sets of column names have any in common (it will let us show off more Python!)."
   ]
  },
  {
   "cell_type": "code",
   "execution_count": null,
   "id": "95836c02",
   "metadata": {},
   "outputs": [
    {
     "data": {
      "text/plain": [
       "[]"
      ]
     },
     "execution_count": null,
     "metadata": {},
     "output_type": "execute_result"
    }
   ],
   "source": [
    "list(set(df_got.columns) & set(df_episode.columns))"
   ]
  },
  {
   "cell_type": "markdown",
   "id": "225bc56f",
   "metadata": {},
   "source": [
    "Uh oh...an empty set. No worries, let's look at the columns in both fields with our human eyes:"
   ]
  },
  {
   "cell_type": "code",
   "execution_count": null,
   "id": "f47e544a",
   "metadata": {},
   "outputs": [
    {
     "name": "stdout",
     "output_type": "stream",
     "text": [
      "['id', 'name', 'sex', 'religion', 'occupation', 'social_status', 'allegiance_last', 'allegiance_switched', 'intro_season', 'intro_episode', 'intro_time_sec', 'intro_time_hrs', 'dth_flag', 'dth_season', 'dth_episode', 'dth_time_sec', 'dth_time_hrs', 'censor_time_sec', 'censor_time_hrs', 'exp_season', 'exp_episode', 'exp_time_sec', 'exp_time_hrs', 'featured_episode_count', 'prominence', 'dth_description', 'icd10_dx_code', 'icd10_dx_text', 'icd10_cause_code', 'icd10_cause_text', 'icd10_place_code', 'icd10_place_text', 'top_location', 'geo_location', 'time_of_day']\n",
      "\n",
      "\n",
      "['season', 'episode_number', 'episode_name', 'gross_running_time', 'opening_credits_time', 'closing_credits_time', 'net_running_time', 'cumulative_net_running_time']\n"
     ]
    }
   ],
   "source": [
    "print(df_got.columns.tolist())\n",
    "print('\\n')\n",
    "print(df_episode.columns.tolist())"
   ]
  },
  {
   "cell_type": "markdown",
   "id": "1dd794d4",
   "metadata": {},
   "source": [
    "hmmm...looks like a lot of fields having to do with an 'episode' in both sets. Let's use a regular expression (regex) to find all the fields in the characters dataset:"
   ]
  },
  {
   "cell_type": "code",
   "execution_count": null,
   "id": "c83fb074",
   "metadata": {},
   "outputs": [
    {
     "data": {
      "text/plain": [
       "['intro_episode', 'dth_episode', 'exp_episode', 'featured_episode_count']"
      ]
     },
     "execution_count": null,
     "metadata": {},
     "output_type": "execute_result"
    }
   ],
   "source": [
    "list(filter(re.compile('(?i)episode').search,df_got.columns.tolist()))"
   ]
  },
  {
   "cell_type": "markdown",
   "id": "e276c045",
   "metadata": {},
   "source": [
    "#### Merge"
   ]
  },
  {
   "cell_type": "markdown",
   "id": "8579a95e",
   "metadata": {},
   "source": [
    "Well - I didn't provide a data dictionary (on purpose), but this looks like the episode a character was introduced, the episode they died in, their exposure (in episodes), and how many episodes they were featured in. featured_episode_count is meaningless for our purposes. exp_episode is a count, not an individual episode. So the question is, if I eventually want to predict mortality, do I care more about the episode they were introduced in or the one they died in?\n",
    "\n",
    "I *think* I care more about when they were introduced. In one sense, it doesn't matter (I could add both with a second join and some creative column renaming). But there's a modeling lesson here! Using the season of death would be **cheating**!\n",
    "\n",
    "I can make up, without a computer, completely by hand, a perfect mortality model using season of death. Ready? Here it is:\n",
    "\n",
    "```\n",
    "if math.isnan(dth_episode):\n",
    "  return True\n",
    "else:\n",
    "  return False\n",
    "```\n",
    "\n",
    "The same logic for 'cause of death' would apply - it sounds silly but be careful not to cheat!\n",
    "\n",
    "Okay, so we'll merge by season as each episode is distinct. If, instead, each season had a season 1, 2, etc, we could merge on both fields. I will pass this agument as a list for those who want to see how it's done."
   ]
  },
  {
   "cell_type": "code",
   "execution_count": null,
   "id": "3b9d1dc3",
   "metadata": {},
   "outputs": [],
   "source": [
    "df = df_got.merge(df_episode,left_on=['intro_episode'],right_on=['episode_number'])"
   ]
  },
  {
   "cell_type": "markdown",
   "id": "a74fb7d0",
   "metadata": {},
   "source": [
    "I think that worked? Let's make sure we have the same row count in the new data frame. An inner join would drop non-matched rows."
   ]
  },
  {
   "cell_type": "code",
   "execution_count": null,
   "id": "6d90d7b0",
   "metadata": {},
   "outputs": [
    {
     "name": "stdout",
     "output_type": "stream",
     "text": [
      "Original GOT df dimensions: (359, 35)\n",
      "Merged df dimensions: (359, 43)\n"
     ]
    }
   ],
   "source": [
    "print(\"Original GOT df dimensions: \" + str(df_got.shape))\n",
    "print(\"Merged df dimensions: \" + str(df.shape))"
   ]
  },
  {
   "cell_type": "markdown",
   "id": "596f7be0",
   "metadata": {
    "tags": []
   },
   "source": [
    "## EDA - Exploratory Data Analysis\n",
    "Technically, we've already done some EDA, but now with our fully-merged set we are ready to look at it all.\n",
    "\n",
    "### groupby()"
   ]
  },
  {
   "cell_type": "code",
   "execution_count": null,
   "id": "3865e5db",
   "metadata": {},
   "outputs": [
    {
     "data": {
      "text/plain": [
       "occupation\n",
       "1     96\n",
       "2    221\n",
       "9     42\n",
       "dtype: int64"
      ]
     },
     "execution_count": null,
     "metadata": {},
     "output_type": "execute_result"
    }
   ],
   "source": [
    "df.groupby('occupation').size()"
   ]
  },
  {
   "cell_type": "code",
   "execution_count": null,
   "id": "31040b36",
   "metadata": {},
   "outputs": [
    {
     "data": {
      "text/plain": [
       "2    221\n",
       "1     96\n",
       "9     42\n",
       "Name: occupation, dtype: int64"
      ]
     },
     "execution_count": null,
     "metadata": {},
     "output_type": "execute_result"
    }
   ],
   "source": [
    "df['occupation'].value_counts()"
   ]
  },
  {
   "cell_type": "markdown",
   "id": "3b70f490",
   "metadata": {
    "tags": []
   },
   "source": [
    "### Deriving New Columns\n",
    "\n",
    "As you may have noticed above, you can create a new column by assigning a vector of values to the dataframe with the new column's name indicated, e.g. `df['new_name']= ...`.\n",
    "\n",
    "We can even use our groupby skills above as part of it! Let's create a variable that compares each character's screen-time with the average for their gender. As Life Actuaries know, almost any mortality model will have to differentiate by gender! "
   ]
  },
  {
   "cell_type": "code",
   "execution_count": null,
   "id": "5da958ab",
   "metadata": {},
   "outputs": [
    {
     "name": "stdout",
     "output_type": "stream",
     "text": [
      "Averages (mean) by sex: \n",
      "\n"
     ]
    },
    {
     "data": {
      "text/html": [
       "<div>\n",
       "<style scoped>\n",
       "    .dataframe tbody tr th:only-of-type {\n",
       "        vertical-align: middle;\n",
       "    }\n",
       "\n",
       "    .dataframe tbody tr th {\n",
       "        vertical-align: top;\n",
       "    }\n",
       "\n",
       "    .dataframe thead th {\n",
       "        text-align: right;\n",
       "    }\n",
       "</style>\n",
       "<table border=\"1\" class=\"dataframe\">\n",
       "  <thead>\n",
       "    <tr style=\"text-align: right;\">\n",
       "      <th></th>\n",
       "      <th>exp_time_hrs</th>\n",
       "    </tr>\n",
       "    <tr>\n",
       "      <th>sex</th>\n",
       "      <th></th>\n",
       "    </tr>\n",
       "  </thead>\n",
       "  <tbody>\n",
       "    <tr>\n",
       "      <th>1</th>\n",
       "      <td>21.183976</td>\n",
       "    </tr>\n",
       "    <tr>\n",
       "      <th>2</th>\n",
       "      <td>26.295238</td>\n",
       "    </tr>\n",
       "  </tbody>\n",
       "</table>\n",
       "</div>"
      ],
      "text/plain": [
       "     exp_time_hrs\n",
       "sex              \n",
       "1       21.183976\n",
       "2       26.295238"
      ]
     },
     "metadata": {},
     "output_type": "display_data"
    },
    {
     "data": {
      "text/html": [
       "<div>\n",
       "<style scoped>\n",
       "    .dataframe tbody tr th:only-of-type {\n",
       "        vertical-align: middle;\n",
       "    }\n",
       "\n",
       "    .dataframe tbody tr th {\n",
       "        vertical-align: top;\n",
       "    }\n",
       "\n",
       "    .dataframe thead th {\n",
       "        text-align: right;\n",
       "    }\n",
       "</style>\n",
       "<table border=\"1\" class=\"dataframe\">\n",
       "  <thead>\n",
       "    <tr style=\"text-align: right;\">\n",
       "      <th></th>\n",
       "      <th>name</th>\n",
       "      <th>sex</th>\n",
       "      <th>exp_time_hrs</th>\n",
       "      <th>sex_relative_exp_hrs</th>\n",
       "    </tr>\n",
       "  </thead>\n",
       "  <tbody>\n",
       "    <tr>\n",
       "      <th>0</th>\n",
       "      <td>Waymar Royce</td>\n",
       "      <td>1</td>\n",
       "      <td>0.10</td>\n",
       "      <td>0.004721</td>\n",
       "    </tr>\n",
       "    <tr>\n",
       "      <th>1</th>\n",
       "      <td>Gared Tuttle</td>\n",
       "      <td>1</td>\n",
       "      <td>0.11</td>\n",
       "      <td>0.005193</td>\n",
       "    </tr>\n",
       "    <tr>\n",
       "      <th>2</th>\n",
       "      <td>Will</td>\n",
       "      <td>1</td>\n",
       "      <td>0.19</td>\n",
       "      <td>0.008969</td>\n",
       "    </tr>\n",
       "    <tr>\n",
       "      <th>3</th>\n",
       "      <td>Irri</td>\n",
       "      <td>2</td>\n",
       "      <td>13.47</td>\n",
       "      <td>0.512260</td>\n",
       "    </tr>\n",
       "    <tr>\n",
       "      <th>4</th>\n",
       "      <td>Jon Snow</td>\n",
       "      <td>1</td>\n",
       "      <td>63.99</td>\n",
       "      <td>3.020679</td>\n",
       "    </tr>\n",
       "  </tbody>\n",
       "</table>\n",
       "</div>"
      ],
      "text/plain": [
       "           name  sex  exp_time_hrs  sex_relative_exp_hrs\n",
       "0  Waymar Royce    1          0.10              0.004721\n",
       "1  Gared Tuttle    1          0.11              0.005193\n",
       "2          Will    1          0.19              0.008969\n",
       "3          Irri    2         13.47              0.512260\n",
       "4      Jon Snow    1         63.99              3.020679"
      ]
     },
     "metadata": {},
     "output_type": "display_data"
    },
    {
     "data": {
      "text/html": [
       "<div>\n",
       "<style scoped>\n",
       "    .dataframe tbody tr th:only-of-type {\n",
       "        vertical-align: middle;\n",
       "    }\n",
       "\n",
       "    .dataframe tbody tr th {\n",
       "        vertical-align: top;\n",
       "    }\n",
       "\n",
       "    .dataframe thead th {\n",
       "        text-align: right;\n",
       "    }\n",
       "</style>\n",
       "<table border=\"1\" class=\"dataframe\">\n",
       "  <thead>\n",
       "    <tr style=\"text-align: right;\">\n",
       "      <th></th>\n",
       "      <th>name</th>\n",
       "      <th>sex</th>\n",
       "      <th>exp_time_hrs</th>\n",
       "      <th>sex_relative_exp_hrs</th>\n",
       "    </tr>\n",
       "  </thead>\n",
       "  <tbody>\n",
       "    <tr>\n",
       "      <th>3</th>\n",
       "      <td>Irri</td>\n",
       "      <td>2</td>\n",
       "      <td>13.47</td>\n",
       "      <td>0.512260</td>\n",
       "    </tr>\n",
       "    <tr>\n",
       "      <th>10</th>\n",
       "      <td>Catelyn Stark</td>\n",
       "      <td>2</td>\n",
       "      <td>24.34</td>\n",
       "      <td>0.925643</td>\n",
       "    </tr>\n",
       "    <tr>\n",
       "      <th>11</th>\n",
       "      <td>Mordane</td>\n",
       "      <td>2</td>\n",
       "      <td>7.63</td>\n",
       "      <td>0.290167</td>\n",
       "    </tr>\n",
       "    <tr>\n",
       "      <th>12</th>\n",
       "      <td>Sansa Stark</td>\n",
       "      <td>2</td>\n",
       "      <td>63.98</td>\n",
       "      <td>2.433140</td>\n",
       "    </tr>\n",
       "    <tr>\n",
       "      <th>13</th>\n",
       "      <td>Arya Stark</td>\n",
       "      <td>2</td>\n",
       "      <td>63.98</td>\n",
       "      <td>2.433140</td>\n",
       "    </tr>\n",
       "  </tbody>\n",
       "</table>\n",
       "</div>"
      ],
      "text/plain": [
       "             name  sex  exp_time_hrs  sex_relative_exp_hrs\n",
       "3            Irri    2         13.47              0.512260\n",
       "10  Catelyn Stark    2         24.34              0.925643\n",
       "11       Mordane     2          7.63              0.290167\n",
       "12    Sansa Stark    2         63.98              2.433140\n",
       "13     Arya Stark    2         63.98              2.433140"
      ]
     },
     "metadata": {},
     "output_type": "display_data"
    }
   ],
   "source": [
    "print(\"Averages (mean) by sex: \\n\")\n",
    "display(df.groupby('sex')[['exp_time_hrs']].mean())\n",
    "\n",
    "df['sex_relative_exp_hrs'] = df['exp_time_hrs']/df.groupby('sex')[['exp_time_hrs']].transform('mean').iloc[:,0]\n",
    "display(df[['name','sex','exp_time_hrs','sex_relative_exp_hrs']].head())\n",
    "display(df[df['sex'] == 2][['name','sex','exp_time_hrs','sex_relative_exp_hrs']].head())"
   ]
  },
  {
   "cell_type": "markdown",
   "id": "1b8efa44",
   "metadata": {},
   "source": [
    "## Training and Test Set\n",
    "\n",
    "This will be a step taken in every modeling project. We want the model to learn real-world relationships, not the particular relationships in the particular dataset used for training. This is especially a problem with modern Machine Learning models as they can easily be 'perfect'. An unpenalized xgboost model could perfectly predict mortality based on Policy Number. But what if you asked that model to predict on a new Policy Number? That number is meaningless to a model that has never seen it. If the model learns the data itself, rather than the relationships underlying the data, that is called 'overfit.' \n",
    "\n",
    "How do we know if we've overfit? Well, if a model predicts very well on data it's seen but terribly on data that it has not, it is overfit. We'd want to evaluate our model choices on this unseen data. Therefore we need to hold a subset of all data aside in order to test against. This is called the 'test', 'validation', or 'holdout' set.\n",
    "\n",
    "Of course, we are playing with a Game of Thrones example which might make this difficult - data is so sparse that if I hold out data, that data may be very informative. For now, suffice it to say that how much data to hold out and how to determine that set is something you may have to wrestle with.\n",
    "\n",
    "For our example, we use truly random draws for the holdout set. This is simple and unbiased (as opposed to, say, holding out all females and assuming that females *should* behave like males from a mortality perspective). But there are other alternatives as well. For example, the most recent data points might be in the test set - this is to evaluate the model that performs best looking forward in time. We could also enhance our random approach by 'stratifying' to ensure equal representation by regressors or a target.\n",
    "\n",
    "We will stratify by deaths (`dth_flag`) to accomplish this, reserving only 20% of data to prevent sparse training data. We will use all other variables as predictors (though we could easily use only the columns we want to)."
   ]
  },
  {
   "cell_type": "code",
   "execution_count": null,
   "id": "eb671b99",
   "metadata": {},
   "outputs": [
    {
     "name": "stdout",
     "output_type": "stream",
     "text": [
      "Rows of training set 287\n",
      "Rows of test set 72\n",
      "Actual test set percentage in result: 20.1%\n"
     ]
    }
   ],
   "source": [
    "from sklearn.model_selection import train_test_split\n",
    "# define target/regressors\n",
    "y = df['dth_flag']\n",
    "X = df.loc[:,df.columns != 'dth_flag']\n",
    "X_train, X_test, y_train, y_test = train_test_split(\n",
    "    X, y, test_size = 0.2, stratify = y, random_state=42)\n",
    "tr=X_train.shape[0]\n",
    "te=X_test.shape[0]\n",
    "print('Rows of training set ' + str(tr))\n",
    "print('Rows of test set ' + str(te))\n",
    "print('Actual test set percentage in result: {:.1%}'.format(te/(te+tr)))"
   ]
  },
  {
   "cell_type": "markdown",
   "id": "ecadf99e",
   "metadata": {},
   "source": [
    "## Transforming and Encoding\n",
    "\n",
    "### Transforming\n",
    "\n",
    "For many types of models like linear models (including glms), k-nearest neighbors, support vector machines, neural networks, and many, many, more, it is important that numerical variables are on the same scale. Further, some of these model forms have a normal-distribution of predictors/response assumption. We can accommodate all of these cases by \"transforming\" the variable.\n",
    "\n",
    "Transforming certainly makes sense conceptually. However, a Transformer is a group of classes in the sklearn package, which is a very useful Machine Learning package in Python.\n",
    "\n",
    "#### Standard Scaling\n",
    "The `StandardScaler()` deletes the mean from the data (to center at 0) and divides by the standard deviation. If we apply this to all numeric fields, all numeric fields will now have a mean of 0 and a standard deviation of 1.\n",
    "\n",
    "#### Derive from Test Set\n",
    "We did the train/test split before the transformations on purpose. We generally want to fit our transformers on the training set so that normal values are derived from this set's mean/variance (so the model remains agnostic to the test set). As this process returns a transformer object, we can re-use this to do the same thing for the test set. We can also make this part of a 'pipeline' (more later)."
   ]
  },
  {
   "cell_type": "code",
   "execution_count": null,
   "id": "d19957d9",
   "metadata": {
    "tags": []
   },
   "outputs": [
    {
     "name": "stdout",
     "output_type": "stream",
     "text": [
      "\n",
      "Mean of data through standard scaler    :  [4.64626481e+01 3.47386760e+00 9.86501087e-01 3.41408284e+01\n",
      " 4.47928994e+00 3.97003484e+01 3.45296167e+00 1.15976331e+00\n",
      " 2.60418118e+01 3.15603833e+03 3.47386760e+00 8.65404425e+04\n",
      " 2.58579882e+00 2.88397213e+01 1.22905544e+05 1.09440836e+00\n",
      " 2.88397213e+01 3.30796864e+03 4.05384615e+01 7.43902439e+00\n",
      " 2.40236686e+00 2.24241812e+01 1.12101045e+02 1.67266331e+05\n",
      " 8.83211150e+04 2.40391986e+01 8.07268885e+04]\n",
      "St. Dev of data through standard scaler :  [2.00300443e+01 2.25357170e+00 9.19109751e-01 1.76651529e+01\n",
      " 2.17867219e+00 1.24506314e+01 2.45596407e+00 3.66386404e-01\n",
      " 2.35498950e+01 4.01616883e+02 2.25357170e+00 6.90057060e+04\n",
      " 2.83156962e+00 2.24696952e+01 6.35953339e+04 1.23276659e+00\n",
      " 2.24696952e+01 4.12699926e+02 2.06804370e+01 1.16912491e+01\n",
      " 2.39407436e+00 2.06105349e+01 1.15000484e+01 7.21105363e+04\n",
      " 6.90608305e+04 1.91682556e+01 7.41978716e+04]\n"
     ]
    },
    {
     "data": {
      "text/html": [
       "<div>\n",
       "<style scoped>\n",
       "    .dataframe tbody tr th:only-of-type {\n",
       "        vertical-align: middle;\n",
       "    }\n",
       "\n",
       "    .dataframe tbody tr th {\n",
       "        vertical-align: top;\n",
       "    }\n",
       "\n",
       "    .dataframe thead th {\n",
       "        text-align: right;\n",
       "    }\n",
       "</style>\n",
       "<table border=\"1\" class=\"dataframe\">\n",
       "  <thead>\n",
       "    <tr style=\"text-align: right;\">\n",
       "      <th></th>\n",
       "      <th>censor_time_hrs</th>\n",
       "      <th>intro_season</th>\n",
       "      <th>sex_relative_exp_hrs</th>\n",
       "      <th>dth_time_hrs</th>\n",
       "      <th>dth_season</th>\n",
       "      <th>closing_credits_time</th>\n",
       "      <th>exp_season</th>\n",
       "      <th>geo_location</th>\n",
       "      <th>exp_episode</th>\n",
       "      <th>net_running_time</th>\n",
       "      <th>...</th>\n",
       "      <th>gross_running_time</th>\n",
       "      <th>dth_episode</th>\n",
       "      <th>featured_episode_count</th>\n",
       "      <th>top_location</th>\n",
       "      <th>exp_time_hrs</th>\n",
       "      <th>opening_credits_time</th>\n",
       "      <th>censor_time_sec</th>\n",
       "      <th>cumulative_net_running_time</th>\n",
       "      <th>intro_time_hrs</th>\n",
       "      <th>exp_time_sec</th>\n",
       "    </tr>\n",
       "  </thead>\n",
       "  <tbody>\n",
       "    <tr>\n",
       "      <th>0</th>\n",
       "      <td>0.881044</td>\n",
       "      <td>-0.210274</td>\n",
       "      <td>1.281021</td>\n",
       "      <td>NaN</td>\n",
       "      <td>NaN</td>\n",
       "      <td>0.104384</td>\n",
       "      <td>1.037083</td>\n",
       "      <td>NaN</td>\n",
       "      <td>1.102263</td>\n",
       "      <td>-0.079773</td>\n",
       "      <td>...</td>\n",
       "      <td>-0.055655</td>\n",
       "      <td>NaN</td>\n",
       "      <td>-0.123086</td>\n",
       "      <td>NaN</td>\n",
       "      <td>1.136109</td>\n",
       "      <td>0.686863</td>\n",
       "      <td>0.881059</td>\n",
       "      <td>-0.306485</td>\n",
       "      <td>-0.300977</td>\n",
       "      <td>1.135964</td>\n",
       "    </tr>\n",
       "    <tr>\n",
       "      <th>1</th>\n",
       "      <td>0.881044</td>\n",
       "      <td>0.677206</td>\n",
       "      <td>-0.110901</td>\n",
       "      <td>NaN</td>\n",
       "      <td>NaN</td>\n",
       "      <td>0.586288</td>\n",
       "      <td>0.222739</td>\n",
       "      <td>NaN</td>\n",
       "      <td>-0.044238</td>\n",
       "      <td>-0.764506</td>\n",
       "      <td>...</td>\n",
       "      <td>-0.717152</td>\n",
       "      <td>NaN</td>\n",
       "      <td>-0.550756</td>\n",
       "      <td>NaN</td>\n",
       "      <td>0.040553</td>\n",
       "      <td>0.339038</td>\n",
       "      <td>0.881059</td>\n",
       "      <td>0.873779</td>\n",
       "      <td>0.877013</td>\n",
       "      <td>0.040488</td>\n",
       "    </tr>\n",
       "    <tr>\n",
       "      <th>2</th>\n",
       "      <td>0.755732</td>\n",
       "      <td>-0.210274</td>\n",
       "      <td>0.743941</td>\n",
       "      <td>1.554426</td>\n",
       "      <td>1.615989</td>\n",
       "      <td>-0.136567</td>\n",
       "      <td>1.037083</td>\n",
       "      <td>-0.436051</td>\n",
       "      <td>1.059800</td>\n",
       "      <td>-0.420894</td>\n",
       "      <td>...</td>\n",
       "      <td>-0.411846</td>\n",
       "      <td>1.472964</td>\n",
       "      <td>2.614004</td>\n",
       "      <td>-0.168068</td>\n",
       "      <td>1.042953</td>\n",
       "      <td>0.078170</td>\n",
       "      <td>0.755682</td>\n",
       "      <td>-0.351721</td>\n",
       "      <td>-0.331757</td>\n",
       "      <td>1.043131</td>\n",
       "    </tr>\n",
       "    <tr>\n",
       "      <th>3</th>\n",
       "      <td>-1.144413</td>\n",
       "      <td>-0.210274</td>\n",
       "      <td>-1.040966</td>\n",
       "      <td>-0.600098</td>\n",
       "      <td>-0.678987</td>\n",
       "      <td>-0.297202</td>\n",
       "      <td>-0.998778</td>\n",
       "      <td>2.293307</td>\n",
       "      <td>-1.063351</td>\n",
       "      <td>-0.142022</td>\n",
       "      <td>...</td>\n",
       "      <td>-0.157423</td>\n",
       "      <td>-0.606296</td>\n",
       "      <td>-0.550756</td>\n",
       "      <td>2.755818</td>\n",
       "      <td>-1.057429</td>\n",
       "      <td>-0.356611</td>\n",
       "      <td>-1.144206</td>\n",
       "      <td>-0.043167</td>\n",
       "      <td>-0.058910</td>\n",
       "      <td>-1.057226</td>\n",
       "    </tr>\n",
       "    <tr>\n",
       "      <th>4</th>\n",
       "      <td>0.881044</td>\n",
       "      <td>0.233466</td>\n",
       "      <td>0.681136</td>\n",
       "      <td>NaN</td>\n",
       "      <td>NaN</td>\n",
       "      <td>-0.216884</td>\n",
       "      <td>0.629911</td>\n",
       "      <td>NaN</td>\n",
       "      <td>0.507781</td>\n",
       "      <td>-0.956231</td>\n",
       "      <td>...</td>\n",
       "      <td>-0.947344</td>\n",
       "      <td>NaN</td>\n",
       "      <td>-0.550756</td>\n",
       "      <td>NaN</td>\n",
       "      <td>0.569409</td>\n",
       "      <td>-0.356611</td>\n",
       "      <td>0.881059</td>\n",
       "      <td>0.306322</td>\n",
       "      <td>0.308364</td>\n",
       "      <td>0.569640</td>\n",
       "    </tr>\n",
       "  </tbody>\n",
       "</table>\n",
       "<p>5 rows × 27 columns</p>\n",
       "</div>"
      ],
      "text/plain": [
       "   censor_time_hrs  intro_season  sex_relative_exp_hrs  dth_time_hrs  \\\n",
       "0         0.881044     -0.210274              1.281021           NaN   \n",
       "1         0.881044      0.677206             -0.110901           NaN   \n",
       "2         0.755732     -0.210274              0.743941      1.554426   \n",
       "3        -1.144413     -0.210274             -1.040966     -0.600098   \n",
       "4         0.881044      0.233466              0.681136           NaN   \n",
       "\n",
       "   dth_season  closing_credits_time  exp_season  geo_location  exp_episode  \\\n",
       "0         NaN              0.104384    1.037083           NaN     1.102263   \n",
       "1         NaN              0.586288    0.222739           NaN    -0.044238   \n",
       "2    1.615989             -0.136567    1.037083     -0.436051     1.059800   \n",
       "3   -0.678987             -0.297202   -0.998778      2.293307    -1.063351   \n",
       "4         NaN             -0.216884    0.629911           NaN     0.507781   \n",
       "\n",
       "   net_running_time  ...  gross_running_time  dth_episode  \\\n",
       "0         -0.079773  ...           -0.055655          NaN   \n",
       "1         -0.764506  ...           -0.717152          NaN   \n",
       "2         -0.420894  ...           -0.411846     1.472964   \n",
       "3         -0.142022  ...           -0.157423    -0.606296   \n",
       "4         -0.956231  ...           -0.947344          NaN   \n",
       "\n",
       "   featured_episode_count  top_location  exp_time_hrs  opening_credits_time  \\\n",
       "0               -0.123086           NaN      1.136109              0.686863   \n",
       "1               -0.550756           NaN      0.040553              0.339038   \n",
       "2                2.614004     -0.168068      1.042953              0.078170   \n",
       "3               -0.550756      2.755818     -1.057429             -0.356611   \n",
       "4               -0.550756           NaN      0.569409             -0.356611   \n",
       "\n",
       "   censor_time_sec  cumulative_net_running_time  intro_time_hrs  exp_time_sec  \n",
       "0         0.881059                    -0.306485       -0.300977      1.135964  \n",
       "1         0.881059                     0.873779        0.877013      0.040488  \n",
       "2         0.755682                    -0.351721       -0.331757      1.043131  \n",
       "3        -1.144206                    -0.043167       -0.058910     -1.057226  \n",
       "4         0.881059                     0.306322        0.308364      0.569640  \n",
       "\n",
       "[5 rows x 27 columns]"
      ]
     },
     "metadata": {},
     "output_type": "display_data"
    }
   ],
   "source": [
    "from sklearn.preprocessing import StandardScaler\n",
    "#identify numeric fields\n",
    "fieldTypeInfo = pd.DataFrame(dict(X_train.dtypes).items(), \n",
    "                             columns=['fieldName', 'dataType'])\n",
    "unwantedFieldNames = ['id','name','dth_description','episode_name'] + df.filter(regex=('icd10.*')).columns.tolist()\n",
    "categoricalAsNumbersFieldNames = ['sex','religion','occupation','social_status','allegiance_last', 'allegiance_switched']\n",
    "categoricalFieldNames = list(set(fieldTypeInfo[fieldTypeInfo['dataType']=='object']['fieldName'].tolist() + \\\n",
    "  categoricalAsNumbersFieldNames) - set(unwantedFieldNames))\n",
    "numericFieldNames = list(set(list(fieldTypeInfo.loc[(fieldTypeInfo['dataType']=='int64') | (fieldTypeInfo['dataType']=='float64'),\n",
    "                                      'fieldName'])) - set(unwantedFieldNames) - set(categoricalFieldNames))\n",
    "scaler = StandardScaler()\n",
    "X_train_numeric_scaled = pd.DataFrame(scaler.fit_transform(X_train[numericFieldNames]),columns = numericFieldNames)\n",
    "print('\\nMean of data through standard scaler    : ', scaler.mean_)\n",
    "print('St. Dev of data through standard scaler : ', scaler.scale_)\n",
    "display(X_train_numeric_scaled.head())"
   ]
  },
  {
   "cell_type": "markdown",
   "id": "1281bb3e",
   "metadata": {},
   "source": [
    "### Encoding\n",
    "\n",
    "Encoding is a special group of transformers often used to process categorical variables. A category, expressed as a number or string, causes problems for a model. A string is meaningless, and a number implies order and (for many model) the unique difference between each class.\n",
    "\n",
    "One common method is \"one-hot\" or \"dummy\" encoding which changes a factor with n levels into n columns of 0/1. This is problematic for linear models (you don't want the ability to calculate one variable as a linear combination of variables). Fortunately, an option exists to drop a \"base level\" so that we are left with n-1 columns.\n",
    "\n",
    "Example:\n",
    "\n",
    "| Gender | \n",
    "| --- |\n",
    "| M | \n",
    "| F |\n",
    "| F |\n",
    "\n",
    "Without dropping one level:\n",
    "\n",
    "| Gender==M | Gender==F |\n",
    "| --- | --- |\n",
    "| 1 | 0 |\n",
    "| 0 | 1 |\n",
    "| 0 | 1 |\n",
    "\n",
    "With dropped level:\n",
    "\n",
    "| Gender==M | \n",
    "| --- |\n",
    "| 1 | \n",
    "| 0 |\n",
    "| 0 |\n",
    "\n",
    "We will now one-hot encode our categorical features. Recall that these are stored as integers (the data dictionary would say, for example, whether family==3 are the Lannisters, Baratheons, etc.). This, too, is a type of encoding, but not suited for this purpose. If (say) the families were ordered by increasing/decreasing mortality, then this sort of encoding would be useful for certain model forms."
   ]
  },
  {
   "cell_type": "code",
   "execution_count": null,
   "id": "f068f5f9",
   "metadata": {},
   "outputs": [
    {
     "data": {
      "text/html": [
       "<div>\n",
       "<style scoped>\n",
       "    .dataframe tbody tr th:only-of-type {\n",
       "        vertical-align: middle;\n",
       "    }\n",
       "\n",
       "    .dataframe tbody tr th {\n",
       "        vertical-align: top;\n",
       "    }\n",
       "\n",
       "    .dataframe thead th {\n",
       "        text-align: right;\n",
       "    }\n",
       "</style>\n",
       "<table border=\"1\" class=\"dataframe\">\n",
       "  <thead>\n",
       "    <tr style=\"text-align: right;\">\n",
       "      <th></th>\n",
       "      <th>religion_1</th>\n",
       "      <th>religion_2</th>\n",
       "      <th>religion_3</th>\n",
       "      <th>religion_4</th>\n",
       "      <th>religion_5</th>\n",
       "      <th>religion_6</th>\n",
       "      <th>religion_7</th>\n",
       "      <th>religion_9</th>\n",
       "      <th>allegiance_switched_1</th>\n",
       "      <th>allegiance_switched_2</th>\n",
       "      <th>...</th>\n",
       "      <th>occupation_9</th>\n",
       "      <th>allegiance_last_1</th>\n",
       "      <th>allegiance_last_2</th>\n",
       "      <th>allegiance_last_3</th>\n",
       "      <th>allegiance_last_4</th>\n",
       "      <th>allegiance_last_5</th>\n",
       "      <th>allegiance_last_6</th>\n",
       "      <th>allegiance_last_7</th>\n",
       "      <th>allegiance_last_8</th>\n",
       "      <th>allegiance_last_9</th>\n",
       "    </tr>\n",
       "  </thead>\n",
       "  <tbody>\n",
       "    <tr>\n",
       "      <th>0</th>\n",
       "      <td>0.0</td>\n",
       "      <td>1.0</td>\n",
       "      <td>0.0</td>\n",
       "      <td>0.0</td>\n",
       "      <td>0.0</td>\n",
       "      <td>0.0</td>\n",
       "      <td>0.0</td>\n",
       "      <td>0.0</td>\n",
       "      <td>1.0</td>\n",
       "      <td>0.0</td>\n",
       "      <td>...</td>\n",
       "      <td>0.0</td>\n",
       "      <td>0.0</td>\n",
       "      <td>0.0</td>\n",
       "      <td>0.0</td>\n",
       "      <td>0.0</td>\n",
       "      <td>0.0</td>\n",
       "      <td>0.0</td>\n",
       "      <td>0.0</td>\n",
       "      <td>1.0</td>\n",
       "      <td>0.0</td>\n",
       "    </tr>\n",
       "    <tr>\n",
       "      <th>1</th>\n",
       "      <td>0.0</td>\n",
       "      <td>0.0</td>\n",
       "      <td>0.0</td>\n",
       "      <td>0.0</td>\n",
       "      <td>0.0</td>\n",
       "      <td>0.0</td>\n",
       "      <td>0.0</td>\n",
       "      <td>1.0</td>\n",
       "      <td>1.0</td>\n",
       "      <td>0.0</td>\n",
       "      <td>...</td>\n",
       "      <td>0.0</td>\n",
       "      <td>0.0</td>\n",
       "      <td>0.0</td>\n",
       "      <td>0.0</td>\n",
       "      <td>0.0</td>\n",
       "      <td>0.0</td>\n",
       "      <td>0.0</td>\n",
       "      <td>0.0</td>\n",
       "      <td>0.0</td>\n",
       "      <td>1.0</td>\n",
       "    </tr>\n",
       "    <tr>\n",
       "      <th>2</th>\n",
       "      <td>0.0</td>\n",
       "      <td>0.0</td>\n",
       "      <td>0.0</td>\n",
       "      <td>0.0</td>\n",
       "      <td>0.0</td>\n",
       "      <td>0.0</td>\n",
       "      <td>0.0</td>\n",
       "      <td>1.0</td>\n",
       "      <td>0.0</td>\n",
       "      <td>1.0</td>\n",
       "      <td>...</td>\n",
       "      <td>0.0</td>\n",
       "      <td>0.0</td>\n",
       "      <td>1.0</td>\n",
       "      <td>0.0</td>\n",
       "      <td>0.0</td>\n",
       "      <td>0.0</td>\n",
       "      <td>0.0</td>\n",
       "      <td>0.0</td>\n",
       "      <td>0.0</td>\n",
       "      <td>0.0</td>\n",
       "    </tr>\n",
       "    <tr>\n",
       "      <th>3</th>\n",
       "      <td>0.0</td>\n",
       "      <td>0.0</td>\n",
       "      <td>0.0</td>\n",
       "      <td>0.0</td>\n",
       "      <td>0.0</td>\n",
       "      <td>0.0</td>\n",
       "      <td>0.0</td>\n",
       "      <td>1.0</td>\n",
       "      <td>1.0</td>\n",
       "      <td>0.0</td>\n",
       "      <td>...</td>\n",
       "      <td>0.0</td>\n",
       "      <td>0.0</td>\n",
       "      <td>0.0</td>\n",
       "      <td>0.0</td>\n",
       "      <td>0.0</td>\n",
       "      <td>0.0</td>\n",
       "      <td>0.0</td>\n",
       "      <td>0.0</td>\n",
       "      <td>1.0</td>\n",
       "      <td>0.0</td>\n",
       "    </tr>\n",
       "    <tr>\n",
       "      <th>4</th>\n",
       "      <td>0.0</td>\n",
       "      <td>0.0</td>\n",
       "      <td>0.0</td>\n",
       "      <td>0.0</td>\n",
       "      <td>0.0</td>\n",
       "      <td>0.0</td>\n",
       "      <td>0.0</td>\n",
       "      <td>1.0</td>\n",
       "      <td>1.0</td>\n",
       "      <td>0.0</td>\n",
       "      <td>...</td>\n",
       "      <td>0.0</td>\n",
       "      <td>0.0</td>\n",
       "      <td>0.0</td>\n",
       "      <td>0.0</td>\n",
       "      <td>0.0</td>\n",
       "      <td>0.0</td>\n",
       "      <td>0.0</td>\n",
       "      <td>0.0</td>\n",
       "      <td>0.0</td>\n",
       "      <td>1.0</td>\n",
       "    </tr>\n",
       "  </tbody>\n",
       "</table>\n",
       "<p>5 rows × 26 columns</p>\n",
       "</div>"
      ],
      "text/plain": [
       "   religion_1  religion_2  religion_3  religion_4  religion_5  religion_6  \\\n",
       "0         0.0         1.0         0.0         0.0         0.0         0.0   \n",
       "1         0.0         0.0         0.0         0.0         0.0         0.0   \n",
       "2         0.0         0.0         0.0         0.0         0.0         0.0   \n",
       "3         0.0         0.0         0.0         0.0         0.0         0.0   \n",
       "4         0.0         0.0         0.0         0.0         0.0         0.0   \n",
       "\n",
       "   religion_7  religion_9  allegiance_switched_1  allegiance_switched_2  ...  \\\n",
       "0         0.0         0.0                    1.0                    0.0  ...   \n",
       "1         0.0         1.0                    1.0                    0.0  ...   \n",
       "2         0.0         1.0                    0.0                    1.0  ...   \n",
       "3         0.0         1.0                    1.0                    0.0  ...   \n",
       "4         0.0         1.0                    1.0                    0.0  ...   \n",
       "\n",
       "   occupation_9  allegiance_last_1  allegiance_last_2  allegiance_last_3  \\\n",
       "0           0.0                0.0                0.0                0.0   \n",
       "1           0.0                0.0                0.0                0.0   \n",
       "2           0.0                0.0                1.0                0.0   \n",
       "3           0.0                0.0                0.0                0.0   \n",
       "4           0.0                0.0                0.0                0.0   \n",
       "\n",
       "   allegiance_last_4  allegiance_last_5  allegiance_last_6  allegiance_last_7  \\\n",
       "0                0.0                0.0                0.0                0.0   \n",
       "1                0.0                0.0                0.0                0.0   \n",
       "2                0.0                0.0                0.0                0.0   \n",
       "3                0.0                0.0                0.0                0.0   \n",
       "4                0.0                0.0                0.0                0.0   \n",
       "\n",
       "   allegiance_last_8  allegiance_last_9  \n",
       "0                1.0                0.0  \n",
       "1                0.0                1.0  \n",
       "2                0.0                0.0  \n",
       "3                1.0                0.0  \n",
       "4                0.0                1.0  \n",
       "\n",
       "[5 rows x 26 columns]"
      ]
     },
     "metadata": {},
     "output_type": "display_data"
    },
    {
     "data": {
      "text/html": [
       "<div>\n",
       "<style scoped>\n",
       "    .dataframe tbody tr th:only-of-type {\n",
       "        vertical-align: middle;\n",
       "    }\n",
       "\n",
       "    .dataframe tbody tr th {\n",
       "        vertical-align: top;\n",
       "    }\n",
       "\n",
       "    .dataframe thead th {\n",
       "        text-align: right;\n",
       "    }\n",
       "</style>\n",
       "<table border=\"1\" class=\"dataframe\">\n",
       "  <thead>\n",
       "    <tr style=\"text-align: right;\">\n",
       "      <th></th>\n",
       "      <th>religion_2</th>\n",
       "      <th>religion_3</th>\n",
       "      <th>religion_4</th>\n",
       "      <th>religion_5</th>\n",
       "      <th>religion_6</th>\n",
       "      <th>religion_7</th>\n",
       "      <th>religion_9</th>\n",
       "      <th>allegiance_switched_2</th>\n",
       "      <th>sex_2</th>\n",
       "      <th>social_status_2</th>\n",
       "      <th>occupation_2</th>\n",
       "      <th>occupation_9</th>\n",
       "      <th>allegiance_last_2</th>\n",
       "      <th>allegiance_last_3</th>\n",
       "      <th>allegiance_last_4</th>\n",
       "      <th>allegiance_last_5</th>\n",
       "      <th>allegiance_last_6</th>\n",
       "      <th>allegiance_last_7</th>\n",
       "      <th>allegiance_last_8</th>\n",
       "      <th>allegiance_last_9</th>\n",
       "    </tr>\n",
       "  </thead>\n",
       "  <tbody>\n",
       "    <tr>\n",
       "      <th>0</th>\n",
       "      <td>1.0</td>\n",
       "      <td>0.0</td>\n",
       "      <td>0.0</td>\n",
       "      <td>0.0</td>\n",
       "      <td>0.0</td>\n",
       "      <td>0.0</td>\n",
       "      <td>0.0</td>\n",
       "      <td>0.0</td>\n",
       "      <td>0.0</td>\n",
       "      <td>1.0</td>\n",
       "      <td>1.0</td>\n",
       "      <td>0.0</td>\n",
       "      <td>0.0</td>\n",
       "      <td>0.0</td>\n",
       "      <td>0.0</td>\n",
       "      <td>0.0</td>\n",
       "      <td>0.0</td>\n",
       "      <td>0.0</td>\n",
       "      <td>1.0</td>\n",
       "      <td>0.0</td>\n",
       "    </tr>\n",
       "    <tr>\n",
       "      <th>1</th>\n",
       "      <td>0.0</td>\n",
       "      <td>0.0</td>\n",
       "      <td>0.0</td>\n",
       "      <td>0.0</td>\n",
       "      <td>0.0</td>\n",
       "      <td>0.0</td>\n",
       "      <td>1.0</td>\n",
       "      <td>0.0</td>\n",
       "      <td>1.0</td>\n",
       "      <td>1.0</td>\n",
       "      <td>1.0</td>\n",
       "      <td>0.0</td>\n",
       "      <td>0.0</td>\n",
       "      <td>0.0</td>\n",
       "      <td>0.0</td>\n",
       "      <td>0.0</td>\n",
       "      <td>0.0</td>\n",
       "      <td>0.0</td>\n",
       "      <td>0.0</td>\n",
       "      <td>1.0</td>\n",
       "    </tr>\n",
       "    <tr>\n",
       "      <th>2</th>\n",
       "      <td>0.0</td>\n",
       "      <td>0.0</td>\n",
       "      <td>0.0</td>\n",
       "      <td>0.0</td>\n",
       "      <td>0.0</td>\n",
       "      <td>0.0</td>\n",
       "      <td>1.0</td>\n",
       "      <td>1.0</td>\n",
       "      <td>1.0</td>\n",
       "      <td>1.0</td>\n",
       "      <td>1.0</td>\n",
       "      <td>0.0</td>\n",
       "      <td>1.0</td>\n",
       "      <td>0.0</td>\n",
       "      <td>0.0</td>\n",
       "      <td>0.0</td>\n",
       "      <td>0.0</td>\n",
       "      <td>0.0</td>\n",
       "      <td>0.0</td>\n",
       "      <td>0.0</td>\n",
       "    </tr>\n",
       "    <tr>\n",
       "      <th>3</th>\n",
       "      <td>0.0</td>\n",
       "      <td>0.0</td>\n",
       "      <td>0.0</td>\n",
       "      <td>0.0</td>\n",
       "      <td>0.0</td>\n",
       "      <td>0.0</td>\n",
       "      <td>1.0</td>\n",
       "      <td>0.0</td>\n",
       "      <td>0.0</td>\n",
       "      <td>1.0</td>\n",
       "      <td>1.0</td>\n",
       "      <td>0.0</td>\n",
       "      <td>0.0</td>\n",
       "      <td>0.0</td>\n",
       "      <td>0.0</td>\n",
       "      <td>0.0</td>\n",
       "      <td>0.0</td>\n",
       "      <td>0.0</td>\n",
       "      <td>1.0</td>\n",
       "      <td>0.0</td>\n",
       "    </tr>\n",
       "    <tr>\n",
       "      <th>4</th>\n",
       "      <td>0.0</td>\n",
       "      <td>0.0</td>\n",
       "      <td>0.0</td>\n",
       "      <td>0.0</td>\n",
       "      <td>0.0</td>\n",
       "      <td>0.0</td>\n",
       "      <td>1.0</td>\n",
       "      <td>0.0</td>\n",
       "      <td>0.0</td>\n",
       "      <td>1.0</td>\n",
       "      <td>1.0</td>\n",
       "      <td>0.0</td>\n",
       "      <td>0.0</td>\n",
       "      <td>0.0</td>\n",
       "      <td>0.0</td>\n",
       "      <td>0.0</td>\n",
       "      <td>0.0</td>\n",
       "      <td>0.0</td>\n",
       "      <td>0.0</td>\n",
       "      <td>1.0</td>\n",
       "    </tr>\n",
       "  </tbody>\n",
       "</table>\n",
       "</div>"
      ],
      "text/plain": [
       "   religion_2  religion_3  religion_4  religion_5  religion_6  religion_7  \\\n",
       "0         1.0         0.0         0.0         0.0         0.0         0.0   \n",
       "1         0.0         0.0         0.0         0.0         0.0         0.0   \n",
       "2         0.0         0.0         0.0         0.0         0.0         0.0   \n",
       "3         0.0         0.0         0.0         0.0         0.0         0.0   \n",
       "4         0.0         0.0         0.0         0.0         0.0         0.0   \n",
       "\n",
       "   religion_9  allegiance_switched_2  sex_2  social_status_2  occupation_2  \\\n",
       "0         0.0                    0.0    0.0              1.0           1.0   \n",
       "1         1.0                    0.0    1.0              1.0           1.0   \n",
       "2         1.0                    1.0    1.0              1.0           1.0   \n",
       "3         1.0                    0.0    0.0              1.0           1.0   \n",
       "4         1.0                    0.0    0.0              1.0           1.0   \n",
       "\n",
       "   occupation_9  allegiance_last_2  allegiance_last_3  allegiance_last_4  \\\n",
       "0           0.0                0.0                0.0                0.0   \n",
       "1           0.0                0.0                0.0                0.0   \n",
       "2           0.0                1.0                0.0                0.0   \n",
       "3           0.0                0.0                0.0                0.0   \n",
       "4           0.0                0.0                0.0                0.0   \n",
       "\n",
       "   allegiance_last_5  allegiance_last_6  allegiance_last_7  allegiance_last_8  \\\n",
       "0                0.0                0.0                0.0                1.0   \n",
       "1                0.0                0.0                0.0                0.0   \n",
       "2                0.0                0.0                0.0                0.0   \n",
       "3                0.0                0.0                0.0                1.0   \n",
       "4                0.0                0.0                0.0                0.0   \n",
       "\n",
       "   allegiance_last_9  \n",
       "0                0.0  \n",
       "1                1.0  \n",
       "2                0.0  \n",
       "3                0.0  \n",
       "4                1.0  "
      ]
     },
     "metadata": {},
     "output_type": "display_data"
    }
   ],
   "source": [
    "from sklearn.preprocessing import OneHotEncoder\n",
    "encoder = OneHotEncoder()\n",
    "encoderDrop = OneHotEncoder(drop='first')\n",
    "X_train_encoded = pd.DataFrame(encoder.fit_transform(X_train[categoricalFieldNames]).toarray(),\n",
    "                              columns=encoder.get_feature_names(categoricalFieldNames))\n",
    "display(X_train_encoded.head())\n",
    "X_train_encoded_drop = pd.DataFrame(encoderDrop.fit_transform(X_train[categoricalFieldNames]).toarray(),\n",
    "                              columns=encoderDrop.get_feature_names(categoricalFieldNames))\n",
    "display(X_train_encoded_drop.head())"
   ]
  },
  {
   "cell_type": "markdown",
   "id": "18093dd3",
   "metadata": {
    "tags": []
   },
   "source": [
    "## Pipeline\n",
    "A `Pipeline` is an advanced but useful sklearn class. It essentially allows you to define a series of transforms and estimators/regressors (models). This allows you to cross-validate all steps at once. A grid search will search over the entire pipeline's hyperparameter space.\n",
    "\n",
    "Below we will set up the above two steps as a pipeline. Note that I am repeating the above with all columns (with certain exclusions), typically you would choose to do this with just the variables you want to use as predictors."
   ]
  },
  {
   "cell_type": "code",
   "execution_count": null,
   "id": "5263b0a2",
   "metadata": {},
   "outputs": [
    {
     "data": {
      "text/plain": [
       "array([[ 1.        ,  0.        ,  0.        , ..., -0.30648509,\n",
       "        -0.30097672,  1.13596401],\n",
       "       [ 0.        ,  0.        ,  0.        , ...,  0.87377873,\n",
       "         0.87701259,  0.04048784],\n",
       "       [ 0.        ,  0.        ,  0.        , ..., -0.35172057,\n",
       "        -0.33175677,  1.04313116],\n",
       "       ...,\n",
       "       [ 0.        ,  1.        ,  0.        , ..., -1.22961329,\n",
       "        -1.23220386,  0.91731892],\n",
       "       [ 0.        ,  0.        ,  0.        , ...,  1.13637332,\n",
       "         1.12429643, -0.18950528],\n",
       "       [ 0.        ,  0.        ,  0.        , ..., -0.13399947,\n",
       "        -0.12829538,  0.30986214]])"
      ]
     },
     "metadata": {},
     "output_type": "display_data"
    },
    {
     "name": "stdout",
     "output_type": "stream",
     "text": [
      "Dimensions of test data(287, 47)\n",
      "\n",
      "Comparison when the pipleine is used for fit/predict:\n"
     ]
    },
    {
     "data": {
      "text/plain": [
       "array([[ 1.        ,  0.        ,  0.        , ..., -0.30648509,\n",
       "        -0.30097672,  1.13596401],\n",
       "       [ 0.        ,  0.        ,  0.        , ...,  0.87377873,\n",
       "         0.87701259,  0.04048784],\n",
       "       [ 0.        ,  0.        ,  0.        , ..., -0.35172057,\n",
       "        -0.33175677,  1.04313116],\n",
       "       ...,\n",
       "       [ 0.        ,  1.        ,  0.        , ..., -1.22961329,\n",
       "        -1.23220386,  0.91731892],\n",
       "       [ 0.        ,  0.        ,  0.        , ...,  1.13637332,\n",
       "         1.12429643, -0.18950528],\n",
       "       [ 0.        ,  0.        ,  0.        , ..., -0.13399947,\n",
       "        -0.12829538,  0.30986214]])"
      ]
     },
     "metadata": {},
     "output_type": "display_data"
    },
    {
     "name": "stdout",
     "output_type": "stream",
     "text": [
      "\n",
      "Now the same pipeline can be used for the test set:\n"
     ]
    },
    {
     "data": {
      "text/plain": [
       "array([[ 0.        ,  0.        ,  0.        , ..., -0.17635344,\n",
       "        -0.16064052,  1.00577159],\n",
       "       [ 0.        ,  0.        ,  1.        , ...,  1.00341807,\n",
       "         1.01004504, -0.78417193],\n",
       "       [ 0.        ,  0.        ,  1.        , ...,  1.04464259,\n",
       "         1.0648231 , -0.84274504],\n",
       "       ...,\n",
       "       [ 0.        ,  0.        ,  0.        , ..., -0.00304246,\n",
       "        -0.01560907,  0.87056556],\n",
       "       [ 0.        ,  0.        ,  1.        , ..., -1.22961329,\n",
       "        -1.24733305,  2.01650139],\n",
       "       [ 0.        ,  1.        ,  0.        , ..., -0.91700483,\n",
       "        -0.93483721,  0.63539709]])"
      ]
     },
     "metadata": {},
     "output_type": "display_data"
    }
   ],
   "source": [
    "from sklearn.pipeline import Pipeline\n",
    "from sklearn.compose import ColumnTransformer\n",
    "transformer = ColumnTransformer(\n",
    "    [\n",
    "      (\"os\",OneHotEncoder(drop='first'),[c for c in categoricalFieldNames]),\n",
    "      (\"ss\",StandardScaler(), [n for n in numericFieldNames])\n",
    "    ])\n",
    "transformed_data = transformer.fit_transform(X_train[categoricalFieldNames + numericFieldNames])\n",
    "display(transformed_data)\n",
    "print('Dimensions of test data'+str(transformed_data.shape))\n",
    "pipeline = Pipeline(steps=[('transformer',transformer)])\n",
    "print('\\nComparison when the pipleine is used for fit/predict:')\n",
    "display(pipeline.fit_transform(X_train))\n",
    "print(\"\\nNow the same pipeline can be used for the test set:\")\n",
    "display(pipeline.transform(X_test))"
   ]
  },
  {
   "cell_type": "markdown",
   "id": "37e3330c",
   "metadata": {
    "tags": []
   },
   "source": [
    "## Plotting\n",
    "\n",
    "### Violin Plot"
   ]
  },
  {
   "cell_type": "markdown",
   "id": "13f31ed8",
   "metadata": {},
   "source": [
    "- Seaborn Plot API : `sns.<plot type>(data, x_axis, y_axis)`"
   ]
  },
  {
   "cell_type": "code",
   "execution_count": null,
   "id": "1beec5d6",
   "metadata": {},
   "outputs": [
    {
     "data": {
      "text/plain": [
       "<AxesSubplot:xlabel='religion', ylabel='exp_time_hrs'>"
      ]
     },
     "execution_count": null,
     "metadata": {},
     "output_type": "execute_result"
    },
    {
     "data": {
      "image/png": "[encoded data removed]",
      "text/plain": [
       "<Figure size 432x288 with 1 Axes>"
      ]
     },
     "metadata": {
      "needs_background": "light"
     },
     "output_type": "display_data"
    }
   ],
   "source": [
    "sns.violinplot(data=df, x='religion',y='exp_time_hrs')"
   ]
  },
  {
   "cell_type": "code",
   "execution_count": null,
   "id": "a6cd1377",
   "metadata": {},
   "outputs": [
    {
     "data": {
      "text/plain": [
       "<AxesSubplot:xlabel='religion', ylabel='exp_time_hrs'>"
      ]
     },
     "execution_count": null,
     "metadata": {},
     "output_type": "execute_result"
    },
    {
     "data": {
      "image/png": "[encoded data removed]",
      "text/plain": [
       "<Figure size 432x288 with 1 Axes>"
      ]
     },
     "metadata": {
      "needs_background": "light"
     },
     "output_type": "display_data"
    }
   ],
   "source": [
    "sns.violinplot(data=df, x='religion',y='exp_time_hrs',cut=0)"
   ]
  },
  {
   "cell_type": "markdown",
   "id": "55a779cd",
   "metadata": {},
   "source": [
    "### Groupby + Aggregation"
   ]
  },
  {
   "cell_type": "markdown",
   "id": "0756b109",
   "metadata": {},
   "source": [
    "- Custom summary stats for various columns at various grouping levels"
   ]
  },
  {
   "cell_type": "code",
   "execution_count": null,
   "id": "b741f083",
   "metadata": {},
   "outputs": [],
   "source": [
    "grb = df.groupby(by=['sex', 'intro_season'], as_index=False)"
   ]
  },
  {
   "cell_type": "code",
   "execution_count": null,
   "id": "fefa7f06",
   "metadata": {},
   "outputs": [],
   "source": [
    "df_gb = grb.agg(deaths=('dth_flag',sum), introduced=('id','count'))"
   ]
  },
  {
   "cell_type": "code",
   "execution_count": null,
   "id": "2d786b9b",
   "metadata": {},
   "outputs": [
    {
     "data": {
      "text/html": [
       "<div>\n",
       "<style scoped>\n",
       "    .dataframe tbody tr th:only-of-type {\n",
       "        vertical-align: middle;\n",
       "    }\n",
       "\n",
       "    .dataframe tbody tr th {\n",
       "        vertical-align: top;\n",
       "    }\n",
       "\n",
       "    .dataframe thead th {\n",
       "        text-align: right;\n",
       "    }\n",
       "</style>\n",
       "<table border=\"1\" class=\"dataframe\">\n",
       "  <thead>\n",
       "    <tr style=\"text-align: right;\">\n",
       "      <th></th>\n",
       "      <th>sex</th>\n",
       "      <th>intro_season</th>\n",
       "      <th>deaths</th>\n",
       "      <th>introduced</th>\n",
       "    </tr>\n",
       "  </thead>\n",
       "  <tbody>\n",
       "    <tr>\n",
       "      <th>0</th>\n",
       "      <td>1</td>\n",
       "      <td>1</td>\n",
       "      <td>60</td>\n",
       "      <td>80</td>\n",
       "    </tr>\n",
       "    <tr>\n",
       "      <th>1</th>\n",
       "      <td>1</td>\n",
       "      <td>2</td>\n",
       "      <td>31</td>\n",
       "      <td>39</td>\n",
       "    </tr>\n",
       "    <tr>\n",
       "      <th>2</th>\n",
       "      <td>1</td>\n",
       "      <td>3</td>\n",
       "      <td>20</td>\n",
       "      <td>28</td>\n",
       "    </tr>\n",
       "    <tr>\n",
       "      <th>3</th>\n",
       "      <td>1</td>\n",
       "      <td>4</td>\n",
       "      <td>18</td>\n",
       "      <td>27</td>\n",
       "    </tr>\n",
       "    <tr>\n",
       "      <th>4</th>\n",
       "      <td>1</td>\n",
       "      <td>5</td>\n",
       "      <td>12</td>\n",
       "      <td>22</td>\n",
       "    </tr>\n",
       "  </tbody>\n",
       "</table>\n",
       "</div>"
      ],
      "text/plain": [
       "   sex  intro_season  deaths  introduced\n",
       "0    1             1      60          80\n",
       "1    1             2      31          39\n",
       "2    1             3      20          28\n",
       "3    1             4      18          27\n",
       "4    1             5      12          22"
      ]
     },
     "execution_count": null,
     "metadata": {},
     "output_type": "execute_result"
    }
   ],
   "source": [
    "df_gb.head()"
   ]
  },
  {
   "cell_type": "markdown",
   "id": "c253879d",
   "metadata": {},
   "source": [
    "### Types of plots\n",
    "- Numerical vs Numerical - Scatter\n",
    "- Numerical vs Categorical - Box, Violin (distribution), Bar (summary stats)\n",
    "- Categorical vs Categorical - Heatmap"
   ]
  },
  {
   "cell_type": "markdown",
   "id": "b2fe992d",
   "metadata": {},
   "source": [
    "### Plot Elements\n",
    "- Axis Labels\n",
    "- Title\n",
    "- Annotations"
   ]
  },
  {
   "cell_type": "markdown",
   "id": "1a868f57",
   "metadata": {},
   "source": [
    "### If you don't play the game you die?"
   ]
  },
  {
   "cell_type": "code",
   "execution_count": null,
   "id": "b665a9ad",
   "metadata": {},
   "outputs": [
    {
     "data": {
      "text/plain": [
       "<AxesSubplot:xlabel='allegiance_switched', ylabel='exp_time_hrs'>"
      ]
     },
     "execution_count": null,
     "metadata": {},
     "output_type": "execute_result"
    },
    {
     "data": {
      "image/png": "[encoded data removed]",
      "text/plain": [
       "<Figure size 432x288 with 1 Axes>"
      ]
     },
     "metadata": {
      "needs_background": "light"
     },
     "output_type": "display_data"
    }
   ],
   "source": [
    "sns.boxplot(data=df, x='allegiance_switched', y='exp_time_hrs')"
   ]
  },
  {
   "cell_type": "code",
   "execution_count": null,
   "id": "eac9912b",
   "metadata": {},
   "outputs": [],
   "source": [
    "df_backup=df.copy()"
   ]
  },
  {
   "cell_type": "code",
   "execution_count": null,
   "id": "b66a529d",
   "metadata": {},
   "outputs": [],
   "source": [
    "# Recoding stuff for cleanliness of plots\n",
    "df['allegiance_switched'] = df['allegiance_switched'].apply(lambda x: 'Yes' if x == 2 else 'No')\n",
    "df['sex'] = df['sex'].apply(lambda x: 'F' if x == 2 else 'M')\n",
    "religion_map = {1 : 'Great Stallion',\n",
    "                2 : 'Lord of Light',\n",
    "                3 : 'Faith of the Seven',\n",
    "                4 : 'Old Gods',\n",
    "                5 : 'Drowned God',\n",
    "                6 : 'Many Faced God',\n",
    "                7 : 'Other',\n",
    "                9 : 'Unknown'}\n",
    "df['religion'] = df['religion'].apply(lambda x: religion_map[x])\n",
    "allegiance_map = {1 : 'Stark',\n",
    "                2 : 'Targaryen',\n",
    "                3 : 'Nights Watch',\n",
    "                4 : 'Lannister',\n",
    "                5 : 'Greyjoy',\n",
    "                6 : 'Bolton',\n",
    "                7 : 'Frey',\n",
    "                8 : 'Other',\n",
    "                9 : 'Unknown'}\n",
    "df['allegiance_last'] = df['allegiance_last'].apply(lambda x: allegiance_map[x])"
   ]
  },
  {
   "cell_type": "code",
   "execution_count": null,
   "id": "bae5414f",
   "metadata": {},
   "outputs": [],
   "source": [
    "df_to_plot = df.copy()"
   ]
  },
  {
   "cell_type": "code",
   "execution_count": null,
   "id": "2bac96cd",
   "metadata": {},
   "outputs": [
    {
     "data": {
      "image/png": "[encoded data removed]",
      "text/plain": [
       "<Figure size 432x288 with 1 Axes>"
      ]
     },
     "metadata": {
      "needs_background": "light"
     },
     "output_type": "display_data"
    }
   ],
   "source": [
    "x_tick_order = ['No', 'Yes']\n",
    "p = sns.boxplot(data=df_to_plot, \n",
    "                x='allegiance_switched', \n",
    "                y='exp_time_hrs', order=x_tick_order)\n",
    "\n",
    "p.set_xlabel(\"Allegiance Switched\", fontsize='large')\n",
    "p.set_ylabel(\"Time To Death (Hrs)\", fontsize='large')\n",
    "p.set_title(\"Should You Play The Game?\")\n",
    "\n",
    "for j in p.get_xticks():\n",
    "    x_pos = j - 0.25\n",
    "    x_pos_label = x_tick_order[j]\n",
    "    row_filter = (df_to_plot['allegiance_switched']==x_pos_label)\n",
    "    y_pos = np.mean(df_to_plot[row_filter]['exp_time_hrs'])\n",
    "    label = \"    n=\" + str(df_to_plot[row_filter].shape[0]) + \"\\n -- mean=\"+ str(np.round(y_pos))\n",
    "    # print(x_pos, y_pos, label)\n",
    "    p.text(x=x_pos, y=y_pos, s=label, fontsize='medium', color='white', fontweight='heavy')"
   ]
  },
  {
   "cell_type": "code",
   "execution_count": null,
   "id": "c745a92b",
   "metadata": {},
   "outputs": [
    {
     "data": {
      "image/png": "[encoded data removed]",
      "text/plain": [
       "<Figure size 432x288 with 1 Axes>"
      ]
     },
     "metadata": {
      "needs_background": "light"
     },
     "output_type": "display_data"
    }
   ],
   "source": [
    "x_tick_order = ['No', 'Yes']\n",
    "p = sns.boxplot(data=df_to_plot[(df_to_plot['dth_flag']==1)], \n",
    "                x='allegiance_switched', \n",
    "                y='exp_time_hrs', order=x_tick_order)\n",
    "p.set_xlabel(\"Allegiance Switched\", fontsize='large')\n",
    "p.set_ylabel(\"Time To Death (Hrs)\", fontsize='large')\n",
    "p.set_title(\"Should You Play The Game?\\n Subset=Died\")\n",
    "\n",
    "for j in p.get_xticks():\n",
    "    x_pos = j - 0.25\n",
    "    x_pos_label = x_tick_order[j]\n",
    "    row_filter = (df_to_plot['dth_flag']==1) & (df_to_plot['allegiance_switched']==x_pos_label)\n",
    "    y_pos = np.mean(df_to_plot[row_filter]['exp_time_hrs'])\n",
    "    label = \"    n=\" + str(df_to_plot[row_filter].shape[0]) + \"\\n -- mean=\"+ str(np.round(y_pos))\n",
    "    # print(x_pos, y_pos, label)\n",
    "    p.text(x=x_pos, y=y_pos, s=label, fontsize='medium', color='white', fontweight='heavy')"
   ]
  },
  {
   "cell_type": "code",
   "execution_count": null,
   "id": "6efdd14b",
   "metadata": {},
   "outputs": [
    {
     "data": {
      "image/png": "[encoded data removed]",
      "text/plain": [
       "<Figure size 432x288 with 1 Axes>"
      ]
     },
     "metadata": {
      "needs_background": "light"
     },
     "output_type": "display_data"
    }
   ],
   "source": [
    "p = sns.boxplot(data=df_to_plot[(df_to_plot['dth_flag']==0)], \n",
    "                x='allegiance_switched', \n",
    "                y='exp_time_hrs', \n",
    "                order=['No', 'Yes'])\n",
    "\n",
    "p.set_xlabel(\"Allegiance Switched\", fontsize='large')\n",
    "p.set_ylabel(\"Time To Death (Hrs)\", fontsize='large')\n",
    "p.set_title(\"Should You Play The Game?\\n Subset=Survied\")\n",
    "\n",
    "for j in p.get_xticks():\n",
    "    x_pos = j-0.25\n",
    "    x_pos_label = x_tick_order[j]\n",
    "    row_filter = (df_to_plot['dth_flag']==0) & (df_to_plot['allegiance_switched']==x_pos_label)\n",
    "    y_pos = np.mean(df_to_plot[row_filter]['exp_time_hrs'])\n",
    "    label = \"    n=\" + str(df_to_plot[row_filter].shape[0]) + \"\\n -- mean=\"+ str(np.round(y_pos))\n",
    "    # print(x_pos, y_pos, label)\n",
    "    p.text(x=x_pos, y=y_pos, s=label, fontsize='medium', color='white', fontweight='heavy')"
   ]
  },
  {
   "cell_type": "code",
   "execution_count": null,
   "id": "3e5abe5d",
   "metadata": {},
   "outputs": [],
   "source": [
    "def calculate_survival_table(df=None, group_by_cols=list()):\n",
    "    \n",
    "    df_to_plot = df.copy()\n",
    "    grb = df_to_plot.groupby(by=group_by_cols+['intro_season'], as_index=False)\n",
    "    df_intro = grb.agg(introduced=('id','count'))\n",
    "    \n",
    "    df_to_plot = df.copy()\n",
    "    grb = df_to_plot.groupby(by=group_by_cols + ['dth_season'], as_index=False)\n",
    "    df_dead = grb.agg(died=('dth_flag',sum))\n",
    "    \n",
    "    df_survival = df_intro.merge(df_dead, right_on=group_by_cols + ['dth_season'], left_on=group_by_cols+['intro_season'])\n",
    "    \n",
    "    if len(group_by_cols) > 0:\n",
    "        df_survival['alive_beginning'] = df_survival.groupby(group_by_cols)['introduced'].transform(pd.Series.cumsum)\n",
    "        df_survival['total_dead'] = df_survival.groupby(group_by_cols)['died'].transform(pd.Series.cumsum)\n",
    "    else:\n",
    "        df_survival['alive_beginning'] = df_survival['introduced'].transform(pd.Series.cumsum)\n",
    "        df_survival['total_dead'] = df_survival['died'].transform(pd.Series.cumsum)\n",
    "        \n",
    "    df_survival.rename(columns={'intro_season':'season'}, inplace=True)\n",
    "    df_survival['alive_end'] = df_survival['alive_beginning'] - df_survival['total_dead']\n",
    "    df_survival['alive_beginning'] = df_survival['alive_end'] + df_survival['died']\n",
    "    df_survival['prop_died'] = df_survival['died']/df_survival['alive_beginning']\n",
    "    return df_survival"
   ]
  },
  {
   "cell_type": "markdown",
   "id": "2727bf6d",
   "metadata": {},
   "source": [
    "### Did GoT go soft over time?"
   ]
  },
  {
   "cell_type": "code",
   "execution_count": null,
   "id": "aee019e4",
   "metadata": {},
   "outputs": [],
   "source": [
    "df_survival = calculate_survival_table(df, group_by_cols=[])"
   ]
  },
  {
   "cell_type": "code",
   "execution_count": null,
   "id": "f23f8b32",
   "metadata": {},
   "outputs": [
    {
     "data": {
      "text/html": [
       "<div>\n",
       "<style scoped>\n",
       "    .dataframe tbody tr th:only-of-type {\n",
       "        vertical-align: middle;\n",
       "    }\n",
       "\n",
       "    .dataframe tbody tr th {\n",
       "        vertical-align: top;\n",
       "    }\n",
       "\n",
       "    .dataframe thead th {\n",
       "        text-align: right;\n",
       "    }\n",
       "</style>\n",
       "<table border=\"1\" class=\"dataframe\">\n",
       "  <thead>\n",
       "    <tr style=\"text-align: right;\">\n",
       "      <th></th>\n",
       "      <th>season</th>\n",
       "      <th>introduced</th>\n",
       "      <th>dth_season</th>\n",
       "      <th>died</th>\n",
       "      <th>alive_beginning</th>\n",
       "      <th>total_dead</th>\n",
       "      <th>alive_end</th>\n",
       "      <th>prop_died</th>\n",
       "    </tr>\n",
       "  </thead>\n",
       "  <tbody>\n",
       "    <tr>\n",
       "      <th>0</th>\n",
       "      <td>1</td>\n",
       "      <td>101</td>\n",
       "      <td>1.0</td>\n",
       "      <td>20</td>\n",
       "      <td>101</td>\n",
       "      <td>20</td>\n",
       "      <td>81</td>\n",
       "      <td>0.198020</td>\n",
       "    </tr>\n",
       "    <tr>\n",
       "      <th>1</th>\n",
       "      <td>2</td>\n",
       "      <td>52</td>\n",
       "      <td>2.0</td>\n",
       "      <td>33</td>\n",
       "      <td>133</td>\n",
       "      <td>53</td>\n",
       "      <td>100</td>\n",
       "      <td>0.248120</td>\n",
       "    </tr>\n",
       "    <tr>\n",
       "      <th>2</th>\n",
       "      <td>3</td>\n",
       "      <td>47</td>\n",
       "      <td>3.0</td>\n",
       "      <td>19</td>\n",
       "      <td>147</td>\n",
       "      <td>72</td>\n",
       "      <td>128</td>\n",
       "      <td>0.129252</td>\n",
       "    </tr>\n",
       "    <tr>\n",
       "      <th>3</th>\n",
       "      <td>4</td>\n",
       "      <td>36</td>\n",
       "      <td>4.0</td>\n",
       "      <td>29</td>\n",
       "      <td>164</td>\n",
       "      <td>101</td>\n",
       "      <td>135</td>\n",
       "      <td>0.176829</td>\n",
       "    </tr>\n",
       "    <tr>\n",
       "      <th>4</th>\n",
       "      <td>5</td>\n",
       "      <td>40</td>\n",
       "      <td>5.0</td>\n",
       "      <td>20</td>\n",
       "      <td>175</td>\n",
       "      <td>121</td>\n",
       "      <td>155</td>\n",
       "      <td>0.114286</td>\n",
       "    </tr>\n",
       "  </tbody>\n",
       "</table>\n",
       "</div>"
      ],
      "text/plain": [
       "   season  introduced  dth_season  died  alive_beginning  total_dead  \\\n",
       "0       1         101         1.0    20              101          20   \n",
       "1       2          52         2.0    33              133          53   \n",
       "2       3          47         3.0    19              147          72   \n",
       "3       4          36         4.0    29              164         101   \n",
       "4       5          40         5.0    20              175         121   \n",
       "\n",
       "   alive_end  prop_died  \n",
       "0         81   0.198020  \n",
       "1        100   0.248120  \n",
       "2        128   0.129252  \n",
       "3        135   0.176829  \n",
       "4        155   0.114286  "
      ]
     },
     "execution_count": null,
     "metadata": {},
     "output_type": "execute_result"
    }
   ],
   "source": [
    "df_survival.head()"
   ]
  },
  {
   "cell_type": "code",
   "execution_count": null,
   "id": "578b218c",
   "metadata": {},
   "outputs": [
    {
     "data": {
      "image/png": "[encoded data removed]",
      "text/plain": [
       "<Figure size 432x288 with 1 Axes>"
      ]
     },
     "metadata": {
      "needs_background": "light"
     },
     "output_type": "display_data"
    }
   ],
   "source": [
    "p = sns.barplot(data=df_survival, \n",
    "                x='season', \n",
    "                y='died')\n",
    "\n",
    "p.set_xlabel(\"Season\", fontsize='large')\n",
    "p.set_ylabel(\"Deaths\", fontsize='large')\n",
    "p.set_title(\"Deaths per season\")\n",
    "\n",
    "for j in np.arange(df_survival.shape[0]):\n",
    "    x_pos = df_survival['season'].iloc[j]-1.75\n",
    "    y_pos = df_survival['died'].iloc[j]\n",
    "    label = \"    n=\" + str(df_survival['alive_beginning'].iloc[j])\n",
    "    # print(x_pos, y_pos, label)\n",
    "    p.text(x=x_pos, y=y_pos, s=label, fontsize='medium', color='black', fontweight='heavy')"
   ]
  },
  {
   "cell_type": "code",
   "execution_count": null,
   "id": "8a5c5c66",
   "metadata": {},
   "outputs": [
    {
     "data": {
      "image/png": "[encoded data removed]",
      "text/plain": [
       "<Figure size 432x288 with 1 Axes>"
      ]
     },
     "metadata": {
      "needs_background": "light"
     },
     "output_type": "display_data"
    }
   ],
   "source": [
    "p = sns.regplot(data=df_survival, \n",
    "                x='season', \n",
    "                y='prop_died')\n",
    "\n",
    "p.set_xlabel(\"Season\", fontsize='large')\n",
    "p.set_ylabel(\"Proportion Died\", fontsize='large')\n",
    "p.set_title(\"Proportion Died per season\")\n",
    "\n",
    "for j in np.arange(df_survival.shape[0]):\n",
    "    x_pos = df_survival['season'].iloc[j]\n",
    "    y_pos = df_survival['prop_died'].iloc[j]\n",
    "    label = \"    n=\" + str(df_survival['alive_beginning'].iloc[j])\n",
    "    # print(x_pos, y_pos, label)\n",
    "    p.text(x=x_pos, y=y_pos, s=label, fontsize='medium', color='black', fontweight='heavy')"
   ]
  },
  {
   "cell_type": "code",
   "execution_count": null,
   "id": "7da28f1b",
   "metadata": {},
   "outputs": [],
   "source": [
    "df_survival = calculate_survival_table(df, group_by_cols=['sex'])"
   ]
  },
  {
   "cell_type": "markdown",
   "id": "3f3ded79",
   "metadata": {},
   "source": [
    "### Subplots"
   ]
  },
  {
   "cell_type": "code",
   "execution_count": null,
   "id": "0499f66f",
   "metadata": {
    "tags": []
   },
   "outputs": [],
   "source": [
    "import matplotlib.pyplot as plt"
   ]
  },
  {
   "cell_type": "code",
   "execution_count": null,
   "id": "52358894",
   "metadata": {},
   "outputs": [
    {
     "data": {
      "image/png": "[encoded data removed]",
      "text/plain": [
       "<Figure size 1080x288 with 2 Axes>"
      ]
     },
     "metadata": {
      "needs_background": "light"
     },
     "output_type": "display_data"
    }
   ],
   "source": [
    "fig, axes = plt.subplots(nrows=1, ncols=2, figsize=(15,4))"
   ]
  },
  {
   "cell_type": "code",
   "execution_count": null,
   "id": "a6930089",
   "metadata": {},
   "outputs": [
    {
     "data": {
      "text/plain": [
       "Text(0.5, 1.0, 'Deaths per season, split by Gender')"
      ]
     },
     "execution_count": null,
     "metadata": {},
     "output_type": "execute_result"
    }
   ],
   "source": [
    "ax0 = axes[0]\n",
    "sns.barplot(data=df_survival, \n",
    "            x='season', \n",
    "            y='died', \n",
    "            hue='sex', \n",
    "            ax=ax0)\n",
    "\n",
    "ax0.set_xlabel(\"Season\", fontsize='large')\n",
    "ax0.set_ylabel(\"Deaths\", fontsize='large')\n",
    "ax0.set_title(\"Deaths per season, split by Gender\")"
   ]
  },
  {
   "cell_type": "code",
   "execution_count": null,
   "id": "b7e99651",
   "metadata": {},
   "outputs": [
    {
     "data": {
      "text/plain": [
       "Text(0.5, 1.0, 'Proportion Died per season, split by Gender')"
      ]
     },
     "execution_count": null,
     "metadata": {},
     "output_type": "execute_result"
    }
   ],
   "source": [
    "ax1 = axes[1]\n",
    "sns.scatterplot(data=df_survival, \n",
    "                x='season', \n",
    "                y='prop_died',\n",
    "                hue='sex', \n",
    "                ax=ax1)\n",
    "\n",
    "ax1.set_xlabel(\"Season\", fontsize='large')\n",
    "ax1.set_ylabel(\"Proportion Died\", fontsize='large')\n",
    "ax1.set_title(\"Proportion Died per season, split by Gender\")"
   ]
  },
  {
   "cell_type": "code",
   "execution_count": null,
   "id": "3fb5e19c",
   "metadata": {},
   "outputs": [
    {
     "data": {
      "image/png": "[encoded data removed]",
      "text/plain": [
       "<Figure size 1080x288 with 2 Axes>"
      ]
     },
     "execution_count": null,
     "metadata": {},
     "output_type": "execute_result"
    }
   ],
   "source": [
    "fig"
   ]
  },
  {
   "cell_type": "markdown",
   "id": "304c965c",
   "metadata": {},
   "source": [
    "### Which god was the most merciful?"
   ]
  },
  {
   "cell_type": "code",
   "execution_count": null,
   "id": "7dd0d031",
   "metadata": {},
   "outputs": [
    {
     "data": {
      "text/html": [
       "<div>\n",
       "<style scoped>\n",
       "    .dataframe tbody tr th:only-of-type {\n",
       "        vertical-align: middle;\n",
       "    }\n",
       "\n",
       "    .dataframe tbody tr th {\n",
       "        vertical-align: top;\n",
       "    }\n",
       "\n",
       "    .dataframe thead th {\n",
       "        text-align: right;\n",
       "    }\n",
       "</style>\n",
       "<table border=\"1\" class=\"dataframe\">\n",
       "  <thead>\n",
       "    <tr style=\"text-align: right;\">\n",
       "      <th></th>\n",
       "      <th>religion</th>\n",
       "      <th>deaths</th>\n",
       "      <th>characters</th>\n",
       "      <th>prop_dead</th>\n",
       "    </tr>\n",
       "  </thead>\n",
       "  <tbody>\n",
       "    <tr>\n",
       "      <th>0</th>\n",
       "      <td>Drowned God</td>\n",
       "      <td>12</td>\n",
       "      <td>14</td>\n",
       "      <td>0.857143</td>\n",
       "    </tr>\n",
       "    <tr>\n",
       "      <th>1</th>\n",
       "      <td>Faith of the Seven</td>\n",
       "      <td>28</td>\n",
       "      <td>35</td>\n",
       "      <td>0.800000</td>\n",
       "    </tr>\n",
       "    <tr>\n",
       "      <th>2</th>\n",
       "      <td>Great Stallion</td>\n",
       "      <td>12</td>\n",
       "      <td>19</td>\n",
       "      <td>0.631579</td>\n",
       "    </tr>\n",
       "    <tr>\n",
       "      <th>3</th>\n",
       "      <td>Lord of Light</td>\n",
       "      <td>9</td>\n",
       "      <td>14</td>\n",
       "      <td>0.642857</td>\n",
       "    </tr>\n",
       "    <tr>\n",
       "      <th>4</th>\n",
       "      <td>Many Faced God</td>\n",
       "      <td>3</td>\n",
       "      <td>6</td>\n",
       "      <td>0.500000</td>\n",
       "    </tr>\n",
       "    <tr>\n",
       "      <th>5</th>\n",
       "      <td>Old Gods</td>\n",
       "      <td>22</td>\n",
       "      <td>31</td>\n",
       "      <td>0.709677</td>\n",
       "    </tr>\n",
       "    <tr>\n",
       "      <th>6</th>\n",
       "      <td>Other</td>\n",
       "      <td>4</td>\n",
       "      <td>7</td>\n",
       "      <td>0.571429</td>\n",
       "    </tr>\n",
       "    <tr>\n",
       "      <th>7</th>\n",
       "      <td>Unknown</td>\n",
       "      <td>122</td>\n",
       "      <td>233</td>\n",
       "      <td>0.523605</td>\n",
       "    </tr>\n",
       "  </tbody>\n",
       "</table>\n",
       "</div>"
      ],
      "text/plain": [
       "             religion  deaths  characters  prop_dead\n",
       "0         Drowned God      12          14   0.857143\n",
       "1  Faith of the Seven      28          35   0.800000\n",
       "2      Great Stallion      12          19   0.631579\n",
       "3       Lord of Light       9          14   0.642857\n",
       "4      Many Faced God       3           6   0.500000\n",
       "5            Old Gods      22          31   0.709677\n",
       "6               Other       4           7   0.571429\n",
       "7             Unknown     122         233   0.523605"
      ]
     },
     "execution_count": null,
     "metadata": {},
     "output_type": "execute_result"
    }
   ],
   "source": [
    "df_survival = df.groupby('religion', as_index=False).agg(deaths=('dth_flag',sum), characters=('id','count'))\n",
    "df_survival['prop_dead'] = df_survival['deaths']/df_survival['characters']\n",
    "df_survival"
   ]
  },
  {
   "cell_type": "code",
   "execution_count": null,
   "id": "74ab54f3",
   "metadata": {},
   "outputs": [
    {
     "data": {
      "image/png": "[encoded data removed]",
      "text/plain": [
       "<Figure size 432x288 with 1 Axes>"
      ]
     },
     "metadata": {
      "needs_background": "light"
     },
     "output_type": "display_data"
    }
   ],
   "source": [
    "p = sns.barplot(data=df_survival, \n",
    "                x='religion', \n",
    "                y='prop_dead')\n",
    "\n",
    "x_tick_order = p.get_xticklabels()\n",
    "p.set_xticklabels(labels = p.get_xticklabels(), rotation=60)\n",
    "\n",
    "p.set_xlabel(\"Religion\", fontsize='large')\n",
    "p.set_ylabel(\"Proportion Died\", fontsize='large')\n",
    "p.set_title(\"Proportion Died by Religion\")\n",
    "\n",
    "for j in p.get_xticks():\n",
    "    x_pos = j-0.75\n",
    "    x_pos_label = x_tick_order[j].get_text()\n",
    "    row_filter = (df_survival['religion']==x_pos_label)\n",
    "    y_pos = df_survival[row_filter]['prop_dead'].iloc[0]\n",
    "    label = \"    n=\" + str(df_survival[row_filter]['characters'].iloc[0])\n",
    "    # print(x_pos, y_pos, label)\n",
    "    p.text(x=x_pos, y=y_pos, s=label, fontsize='medium', color='black', fontweight='heavy')"
   ]
  },
  {
   "cell_type": "markdown",
   "id": "6d3e9d7e",
   "metadata": {},
   "source": [
    "### Which house should you bend the knee to?"
   ]
  },
  {
   "cell_type": "code",
   "execution_count": null,
   "id": "cd01989e",
   "metadata": {},
   "outputs": [
    {
     "data": {
      "text/html": [
       "<div>\n",
       "<style scoped>\n",
       "    .dataframe tbody tr th:only-of-type {\n",
       "        vertical-align: middle;\n",
       "    }\n",
       "\n",
       "    .dataframe tbody tr th {\n",
       "        vertical-align: top;\n",
       "    }\n",
       "\n",
       "    .dataframe thead th {\n",
       "        text-align: right;\n",
       "    }\n",
       "</style>\n",
       "<table border=\"1\" class=\"dataframe\">\n",
       "  <thead>\n",
       "    <tr style=\"text-align: right;\">\n",
       "      <th></th>\n",
       "      <th>allegiance_last</th>\n",
       "      <th>deaths</th>\n",
       "      <th>characters</th>\n",
       "      <th>prop_dead</th>\n",
       "    </tr>\n",
       "  </thead>\n",
       "  <tbody>\n",
       "    <tr>\n",
       "      <th>0</th>\n",
       "      <td>Bolton</td>\n",
       "      <td>13</td>\n",
       "      <td>13</td>\n",
       "      <td>1.000000</td>\n",
       "    </tr>\n",
       "    <tr>\n",
       "      <th>1</th>\n",
       "      <td>Frey</td>\n",
       "      <td>6</td>\n",
       "      <td>18</td>\n",
       "      <td>0.333333</td>\n",
       "    </tr>\n",
       "    <tr>\n",
       "      <th>2</th>\n",
       "      <td>Greyjoy</td>\n",
       "      <td>11</td>\n",
       "      <td>14</td>\n",
       "      <td>0.785714</td>\n",
       "    </tr>\n",
       "    <tr>\n",
       "      <th>3</th>\n",
       "      <td>Lannister</td>\n",
       "      <td>29</td>\n",
       "      <td>34</td>\n",
       "      <td>0.852941</td>\n",
       "    </tr>\n",
       "    <tr>\n",
       "      <th>4</th>\n",
       "      <td>Nights Watch</td>\n",
       "      <td>20</td>\n",
       "      <td>27</td>\n",
       "      <td>0.740741</td>\n",
       "    </tr>\n",
       "    <tr>\n",
       "      <th>5</th>\n",
       "      <td>Other</td>\n",
       "      <td>84</td>\n",
       "      <td>135</td>\n",
       "      <td>0.622222</td>\n",
       "    </tr>\n",
       "    <tr>\n",
       "      <th>6</th>\n",
       "      <td>Stark</td>\n",
       "      <td>25</td>\n",
       "      <td>60</td>\n",
       "      <td>0.416667</td>\n",
       "    </tr>\n",
       "    <tr>\n",
       "      <th>7</th>\n",
       "      <td>Targaryen</td>\n",
       "      <td>12</td>\n",
       "      <td>21</td>\n",
       "      <td>0.571429</td>\n",
       "    </tr>\n",
       "    <tr>\n",
       "      <th>8</th>\n",
       "      <td>Unknown</td>\n",
       "      <td>12</td>\n",
       "      <td>37</td>\n",
       "      <td>0.324324</td>\n",
       "    </tr>\n",
       "  </tbody>\n",
       "</table>\n",
       "</div>"
      ],
      "text/plain": [
       "  allegiance_last  deaths  characters  prop_dead\n",
       "0          Bolton      13          13   1.000000\n",
       "1            Frey       6          18   0.333333\n",
       "2         Greyjoy      11          14   0.785714\n",
       "3       Lannister      29          34   0.852941\n",
       "4    Nights Watch      20          27   0.740741\n",
       "5           Other      84         135   0.622222\n",
       "6           Stark      25          60   0.416667\n",
       "7       Targaryen      12          21   0.571429\n",
       "8         Unknown      12          37   0.324324"
      ]
     },
     "execution_count": null,
     "metadata": {},
     "output_type": "execute_result"
    }
   ],
   "source": [
    "df_survival = df.groupby('allegiance_last', as_index=False).agg(deaths=('dth_flag',sum), characters=('id','count'))\n",
    "df_survival['prop_dead'] = df_survival['deaths']/df_survival['characters']\n",
    "df_survival"
   ]
  },
  {
   "cell_type": "code",
   "execution_count": null,
   "id": "17d77c11",
   "metadata": {},
   "outputs": [
    {
     "data": {
      "image/png": "[encoded data removed]",
      "text/plain": [
       "<Figure size 432x288 with 1 Axes>"
      ]
     },
     "metadata": {
      "needs_background": "light"
     },
     "output_type": "display_data"
    }
   ],
   "source": [
    "p = sns.barplot(data=df_survival, x='allegiance_last', y='prop_dead')\n",
    "x_tick_order = p.get_xticklabels()\n",
    "p.set_xticklabels(labels = p.get_xticklabels(), rotation=60)\n",
    "\n",
    "p.set_xlabel(\"Allegiance\", fontsize='large')\n",
    "p.set_ylabel(\"Proportion Died\", fontsize='large')\n",
    "p.set_title(\"Proportion Died by House\")\n",
    "\n",
    "for j in p.get_xticks():\n",
    "    x_pos = j-0.75\n",
    "    x_pos_label = x_tick_order[j].get_text()\n",
    "    row_filter = (df_survival['allegiance_last']==x_pos_label)\n",
    "    y_pos = df_survival[row_filter]['prop_dead'].iloc[0]\n",
    "    label = \"    n=\" + str(df_survival[row_filter]['characters'].iloc[0])\n",
    "    # print(x_pos, y_pos, label)\n",
    "    p.text(x=x_pos, y=y_pos, s=label, fontsize='medium', color='black', fontweight='heavy')"
   ]
  },
  {
   "cell_type": "markdown",
   "id": "d9f220b0",
   "metadata": {},
   "source": [
    "### Heatmap / Confusion Matrices"
   ]
  },
  {
   "cell_type": "code",
   "execution_count": null,
   "id": "a7b1ef6f",
   "metadata": {},
   "outputs": [
    {
     "data": {
      "text/html": [
       "<div>\n",
       "<style scoped>\n",
       "    .dataframe tbody tr th:only-of-type {\n",
       "        vertical-align: middle;\n",
       "    }\n",
       "\n",
       "    .dataframe tbody tr th {\n",
       "        vertical-align: top;\n",
       "    }\n",
       "\n",
       "    .dataframe thead th {\n",
       "        text-align: right;\n",
       "    }\n",
       "</style>\n",
       "<table border=\"1\" class=\"dataframe\">\n",
       "  <thead>\n",
       "    <tr style=\"text-align: right;\">\n",
       "      <th></th>\n",
       "      <th>allegiance_switched</th>\n",
       "      <th>sex</th>\n",
       "      <th>deaths</th>\n",
       "      <th>characters</th>\n",
       "      <th>prop_dead</th>\n",
       "    </tr>\n",
       "  </thead>\n",
       "  <tbody>\n",
       "    <tr>\n",
       "      <th>0</th>\n",
       "      <td>No</td>\n",
       "      <td>F</td>\n",
       "      <td>36</td>\n",
       "      <td>89</td>\n",
       "      <td>0.404494</td>\n",
       "    </tr>\n",
       "    <tr>\n",
       "      <th>1</th>\n",
       "      <td>No</td>\n",
       "      <td>M</td>\n",
       "      <td>145</td>\n",
       "      <td>215</td>\n",
       "      <td>0.674419</td>\n",
       "    </tr>\n",
       "    <tr>\n",
       "      <th>2</th>\n",
       "      <td>Yes</td>\n",
       "      <td>F</td>\n",
       "      <td>8</td>\n",
       "      <td>16</td>\n",
       "      <td>0.500000</td>\n",
       "    </tr>\n",
       "    <tr>\n",
       "      <th>3</th>\n",
       "      <td>Yes</td>\n",
       "      <td>M</td>\n",
       "      <td>23</td>\n",
       "      <td>39</td>\n",
       "      <td>0.589744</td>\n",
       "    </tr>\n",
       "  </tbody>\n",
       "</table>\n",
       "</div>"
      ],
      "text/plain": [
       "  allegiance_switched sex  deaths  characters  prop_dead\n",
       "0                  No   F      36          89   0.404494\n",
       "1                  No   M     145         215   0.674419\n",
       "2                 Yes   F       8          16   0.500000\n",
       "3                 Yes   M      23          39   0.589744"
      ]
     },
     "execution_count": null,
     "metadata": {},
     "output_type": "execute_result"
    }
   ],
   "source": [
    "df_survival = df.groupby(['allegiance_switched', 'sex'], as_index=False).agg(deaths=('dth_flag',sum), characters=('id','count'))\n",
    "df_survival['prop_dead'] = df_survival['deaths']/df_survival['characters']\n",
    "df_survival"
   ]
  },
  {
   "cell_type": "code",
   "execution_count": null,
   "id": "a725999f",
   "metadata": {},
   "outputs": [],
   "source": [
    "df_to_plot = df_survival.pivot(\"allegiance_switched\", \"sex\", \"prop_dead\")"
   ]
  },
  {
   "cell_type": "code",
   "execution_count": null,
   "id": "a3b59f6c",
   "metadata": {},
   "outputs": [
    {
     "data": {
      "text/plain": [
       "Text(0.5, 1.0, 'Proportion Dead by Gender and Allegiance Switched')"
      ]
     },
     "execution_count": null,
     "metadata": {},
     "output_type": "execute_result"
    },
    {
     "data": {
      "image/png": "[encoded data removed]",
      "text/plain": [
       "<Figure size 432x288 with 2 Axes>"
      ]
     },
     "metadata": {
      "needs_background": "light"
     },
     "output_type": "display_data"
    }
   ],
   "source": [
    "p = sns.heatmap(df_to_plot, annot=True)\n",
    "\n",
    "p.set_xlabel(\"Sex\", fontsize='large')\n",
    "p.set_ylabel(\"Allegiance Switched\", fontsize='large')\n",
    "p.set_title(\"Proportion Dead by Gender and Allegiance Switched\")"
   ]
  }
 ],
 "metadata": {
  "kernelspec": {
   "display_name": "Python [conda env:.conda-ppas]",
   "language": "python",
   "name": "conda-env-.conda-ppas-py"
  }
 },
 "nbformat": 4,
 "nbformat_minor": 5
}
